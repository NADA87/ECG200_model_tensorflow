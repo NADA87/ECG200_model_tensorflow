{
  "cells": [
    {
      "cell_type": "markdown",
      "metadata": {
        "id": "a077e23a"
      },
      "source": [
        "# About Data"
      ],
      "id": "a077e23a"
    },
    {
      "cell_type": "markdown",
      "metadata": {
        "id": "B0rhD8TtarnX"
      },
      "source": [
        "**This dataset was formatted by R. Olszewski as part of his thesis\n",
        "“Generalized feature extraction for structural\tpattern recognition\n",
        "in time-series data,” at Carnegie Mellon University, 2001. Each\n",
        "series traces the electrical activity recorded during one\n",
        "heartbeat. The two classes are a normal heartbeat and a Myocardial\n",
        "Infarction.**"
      ],
      "id": "B0rhD8TtarnX"
    },
    {
      "cell_type": "markdown",
      "source": [
        "# Import Librarys"
      ],
      "metadata": {
        "id": "pX5Jq7mmnPSC"
      },
      "id": "pX5Jq7mmnPSC"
    },
    {
      "cell_type": "code",
      "source": [
        "! pip install tensorflow_addons \n",
        "! pip install dash==2.0.0\n",
        "! pip install plotly"
      ],
      "metadata": {
        "colab": {
          "base_uri": "https://localhost:8080/"
        },
        "id": "jopBpxKNnPBo",
        "outputId": "c8472379-d1b7-4f49-df84-848d5663df29"
      },
      "id": "jopBpxKNnPBo",
      "execution_count": 1,
      "outputs": [
        {
          "output_type": "stream",
          "name": "stdout",
          "text": [
            "Requirement already satisfied: tensorflow_addons in /usr/local/lib/python3.7/dist-packages (0.15.0)\n",
            "Requirement already satisfied: typeguard>=2.7 in /usr/local/lib/python3.7/dist-packages (from tensorflow_addons) (2.7.1)\n",
            "Requirement already satisfied: dash==2.0.0 in /usr/local/lib/python3.7/dist-packages (2.0.0)\n",
            "Requirement already satisfied: flask-compress in /usr/local/lib/python3.7/dist-packages (from dash==2.0.0) (1.10.1)\n",
            "Requirement already satisfied: Flask>=1.0.4 in /usr/local/lib/python3.7/dist-packages (from dash==2.0.0) (1.1.4)\n",
            "Requirement already satisfied: dash-core-components==2.0.0 in /usr/local/lib/python3.7/dist-packages (from dash==2.0.0) (2.0.0)\n",
            "Requirement already satisfied: dash-html-components==2.0.0 in /usr/local/lib/python3.7/dist-packages (from dash==2.0.0) (2.0.0)\n",
            "Requirement already satisfied: plotly>=5.0.0 in /usr/local/lib/python3.7/dist-packages (from dash==2.0.0) (5.5.0)\n",
            "Requirement already satisfied: dash-table==5.0.0 in /usr/local/lib/python3.7/dist-packages (from dash==2.0.0) (5.0.0)\n",
            "Requirement already satisfied: click<8.0,>=5.1 in /usr/local/lib/python3.7/dist-packages (from Flask>=1.0.4->dash==2.0.0) (7.1.2)\n",
            "Requirement already satisfied: Werkzeug<2.0,>=0.15 in /usr/local/lib/python3.7/dist-packages (from Flask>=1.0.4->dash==2.0.0) (1.0.1)\n",
            "Requirement already satisfied: itsdangerous<2.0,>=0.24 in /usr/local/lib/python3.7/dist-packages (from Flask>=1.0.4->dash==2.0.0) (1.1.0)\n",
            "Requirement already satisfied: Jinja2<3.0,>=2.10.1 in /usr/local/lib/python3.7/dist-packages (from Flask>=1.0.4->dash==2.0.0) (2.11.3)\n",
            "Requirement already satisfied: MarkupSafe>=0.23 in /usr/local/lib/python3.7/dist-packages (from Jinja2<3.0,>=2.10.1->Flask>=1.0.4->dash==2.0.0) (2.0.1)\n",
            "Requirement already satisfied: six in /usr/local/lib/python3.7/dist-packages (from plotly>=5.0.0->dash==2.0.0) (1.15.0)\n",
            "Requirement already satisfied: tenacity>=6.2.0 in /usr/local/lib/python3.7/dist-packages (from plotly>=5.0.0->dash==2.0.0) (8.0.1)\n",
            "Requirement already satisfied: brotli in /usr/local/lib/python3.7/dist-packages (from flask-compress->dash==2.0.0) (1.0.9)\n",
            "Requirement already satisfied: plotly in /usr/local/lib/python3.7/dist-packages (5.5.0)\n",
            "Requirement already satisfied: six in /usr/local/lib/python3.7/dist-packages (from plotly) (1.15.0)\n",
            "Requirement already satisfied: tenacity>=6.2.0 in /usr/local/lib/python3.7/dist-packages (from plotly) (8.0.1)\n"
          ]
        }
      ]
    },
    {
      "cell_type": "markdown",
      "source": [
        "# Import Librarys"
      ],
      "metadata": {
        "id": "iinS31Pqnbei"
      },
      "id": "iinS31Pqnbei"
    },
    {
      "cell_type": "code",
      "source": [
        "import pandas as pd\n",
        "import numpy as np\n",
        "import matplotlib.pyplot as plt\n",
        "import tensorflow as tf\n",
        "from sklearn.metrics import classification_report\n",
        "import tensorflow_addons as tfa\n",
        "import urllib.request\n",
        "import zipfile\n",
        "import pandas as pd\n",
        "import dash\n",
        "import dash_core_components as dcc\n",
        "import dash_html_components as html\n",
        "import plotly.express as px"
      ],
      "metadata": {
        "colab": {
          "base_uri": "https://localhost:8080/"
        },
        "id": "FKsUMgejnc8S",
        "outputId": "ae3a1c41-0ae2-4053-ac9b-2c5068c1c6b3"
      },
      "id": "FKsUMgejnc8S",
      "execution_count": 2,
      "outputs": [
        {
          "output_type": "stream",
          "name": "stderr",
          "text": [
            "/usr/local/lib/python3.7/dist-packages/ipykernel_launcher.py:11: UserWarning: \n",
            "The dash_core_components package is deprecated. Please replace\n",
            "`import dash_core_components as dcc` with `from dash import dcc`\n",
            "  # This is added back by InteractiveShellApp.init_path()\n",
            "/usr/local/lib/python3.7/dist-packages/ipykernel_launcher.py:12: UserWarning: \n",
            "The dash_html_components package is deprecated. Please replace\n",
            "`import dash_html_components as html` with `from dash import html`\n",
            "  if sys.path[0] == '':\n"
          ]
        }
      ]
    },
    {
      "cell_type": "markdown",
      "source": [
        "# Preprocessing"
      ],
      "metadata": {
        "id": "HQXyeYlRnTN3"
      },
      "id": "HQXyeYlRnTN3"
    },
    {
      "cell_type": "code",
      "execution_count": 3,
      "metadata": {
        "id": "9ahARlJaD690"
      },
      "outputs": [],
      "source": [
        "urllib.request.urlretrieve(\"https://timeseriesclassification.com/Downloads/ECG200.zip\",'/content/ecg200.zip')\n",
        "\n",
        "with zipfile.ZipFile('/content/ecg200.zip', 'r') as zip_ref:\n",
        "    zip_ref.extractall('/content/ecg200/')\n",
        "\n",
        "train = pd.read_csv('/content/ecg200/ECG200_TRAIN.txt', header=None, sep='\\n')\n",
        "train = train[0].str.split('  ',expand=True).iloc[:,1:]\n",
        "train = train.applymap(float)\n",
        "\n",
        "test = pd.read_csv('/content/ecg200/ECG200_TEST.txt', header=None, sep='\\n')\n",
        "test = test[0].str.split(r\"\\s+\",expand=True).iloc[:,1:]\n",
        "test = test.applymap(float)\n",
        "\n",
        "train.to_csv('train.csv',index=False)\n",
        "test.to_csv('test.csv',index=False)"
      ],
      "id": "9ahARlJaD690"
    },
    {
      "cell_type": "markdown",
      "metadata": {
        "id": "7f027e67"
      },
      "source": [
        "# Training dataset "
      ],
      "id": "7f027e67"
    },
    {
      "cell_type": "code",
      "execution_count": 4,
      "metadata": {
        "colab": {
          "base_uri": "https://localhost:8080/",
          "height": 254
        },
        "id": "ace05219",
        "outputId": "b1051251-648f-4176-91b8-3c139a8497fe"
      },
      "outputs": [
        {
          "output_type": "stream",
          "name": "stdout",
          "text": [
            "dataframe shape : (100, 97)\n"
          ]
        },
        {
          "output_type": "execute_result",
          "data": {
            "text/html": [
              "\n",
              "  <div id=\"df-2edb0e37-01bd-4ede-a36c-6559584ed502\">\n",
              "    <div class=\"colab-df-container\">\n",
              "      <div>\n",
              "<style scoped>\n",
              "    .dataframe tbody tr th:only-of-type {\n",
              "        vertical-align: middle;\n",
              "    }\n",
              "\n",
              "    .dataframe tbody tr th {\n",
              "        vertical-align: top;\n",
              "    }\n",
              "\n",
              "    .dataframe thead th {\n",
              "        text-align: right;\n",
              "    }\n",
              "</style>\n",
              "<table border=\"1\" class=\"dataframe\">\n",
              "  <thead>\n",
              "    <tr style=\"text-align: right;\">\n",
              "      <th></th>\n",
              "      <th>1</th>\n",
              "      <th>2</th>\n",
              "      <th>3</th>\n",
              "      <th>4</th>\n",
              "      <th>5</th>\n",
              "      <th>6</th>\n",
              "      <th>7</th>\n",
              "      <th>8</th>\n",
              "      <th>9</th>\n",
              "      <th>10</th>\n",
              "      <th>11</th>\n",
              "      <th>12</th>\n",
              "      <th>13</th>\n",
              "      <th>14</th>\n",
              "      <th>15</th>\n",
              "      <th>16</th>\n",
              "      <th>17</th>\n",
              "      <th>18</th>\n",
              "      <th>19</th>\n",
              "      <th>20</th>\n",
              "      <th>21</th>\n",
              "      <th>22</th>\n",
              "      <th>23</th>\n",
              "      <th>24</th>\n",
              "      <th>25</th>\n",
              "      <th>26</th>\n",
              "      <th>27</th>\n",
              "      <th>28</th>\n",
              "      <th>29</th>\n",
              "      <th>30</th>\n",
              "      <th>31</th>\n",
              "      <th>32</th>\n",
              "      <th>33</th>\n",
              "      <th>34</th>\n",
              "      <th>35</th>\n",
              "      <th>36</th>\n",
              "      <th>37</th>\n",
              "      <th>38</th>\n",
              "      <th>39</th>\n",
              "      <th>40</th>\n",
              "      <th>...</th>\n",
              "      <th>58</th>\n",
              "      <th>59</th>\n",
              "      <th>60</th>\n",
              "      <th>61</th>\n",
              "      <th>62</th>\n",
              "      <th>63</th>\n",
              "      <th>64</th>\n",
              "      <th>65</th>\n",
              "      <th>66</th>\n",
              "      <th>67</th>\n",
              "      <th>68</th>\n",
              "      <th>69</th>\n",
              "      <th>70</th>\n",
              "      <th>71</th>\n",
              "      <th>72</th>\n",
              "      <th>73</th>\n",
              "      <th>74</th>\n",
              "      <th>75</th>\n",
              "      <th>76</th>\n",
              "      <th>77</th>\n",
              "      <th>78</th>\n",
              "      <th>79</th>\n",
              "      <th>80</th>\n",
              "      <th>81</th>\n",
              "      <th>82</th>\n",
              "      <th>83</th>\n",
              "      <th>84</th>\n",
              "      <th>85</th>\n",
              "      <th>86</th>\n",
              "      <th>87</th>\n",
              "      <th>88</th>\n",
              "      <th>89</th>\n",
              "      <th>90</th>\n",
              "      <th>91</th>\n",
              "      <th>92</th>\n",
              "      <th>93</th>\n",
              "      <th>94</th>\n",
              "      <th>95</th>\n",
              "      <th>96</th>\n",
              "      <th>97</th>\n",
              "    </tr>\n",
              "  </thead>\n",
              "  <tbody>\n",
              "    <tr>\n",
              "      <th>0</th>\n",
              "      <td>-1.0</td>\n",
              "      <td>0.502055</td>\n",
              "      <td>0.542163</td>\n",
              "      <td>0.722383</td>\n",
              "      <td>1.428885</td>\n",
              "      <td>2.136516</td>\n",
              "      <td>2.281149</td>\n",
              "      <td>1.936274</td>\n",
              "      <td>1.468890</td>\n",
              "      <td>1.008845</td>\n",
              "      <td>0.380282</td>\n",
              "      <td>-0.296780</td>\n",
              "      <td>-0.513929</td>\n",
              "      <td>-0.255645</td>\n",
              "      <td>-0.107203</td>\n",
              "      <td>-0.287827</td>\n",
              "      <td>-0.418009</td>\n",
              "      <td>-0.319163</td>\n",
              "      <td>-0.260379</td>\n",
              "      <td>-0.350357</td>\n",
              "      <td>-0.505486</td>\n",
              "      <td>-0.710887</td>\n",
              "      <td>-0.823920</td>\n",
              "      <td>-0.899702</td>\n",
              "      <td>-1.153950</td>\n",
              "      <td>-1.229831</td>\n",
              "      <td>-1.044091</td>\n",
              "      <td>-1.202031</td>\n",
              "      <td>-1.392195</td>\n",
              "      <td>-1.130108</td>\n",
              "      <td>-1.179867</td>\n",
              "      <td>-1.649272</td>\n",
              "      <td>-1.726575</td>\n",
              "      <td>-1.608370</td>\n",
              "      <td>-1.662802</td>\n",
              "      <td>-1.650672</td>\n",
              "      <td>-1.697309</td>\n",
              "      <td>-1.838697</td>\n",
              "      <td>-1.802596</td>\n",
              "      <td>-1.780536</td>\n",
              "      <td>...</td>\n",
              "      <td>0.683870</td>\n",
              "      <td>0.474995</td>\n",
              "      <td>0.532797</td>\n",
              "      <td>0.723550</td>\n",
              "      <td>0.664420</td>\n",
              "      <td>0.647936</td>\n",
              "      <td>0.757054</td>\n",
              "      <td>0.732072</td>\n",
              "      <td>0.620215</td>\n",
              "      <td>0.606297</td>\n",
              "      <td>0.677950</td>\n",
              "      <td>0.689084</td>\n",
              "      <td>0.598807</td>\n",
              "      <td>0.542647</td>\n",
              "      <td>0.581807</td>\n",
              "      <td>0.630631</td>\n",
              "      <td>0.664420</td>\n",
              "      <td>0.686318</td>\n",
              "      <td>0.657383</td>\n",
              "      <td>0.650889</td>\n",
              "      <td>0.721738</td>\n",
              "      <td>0.739706</td>\n",
              "      <td>0.691481</td>\n",
              "      <td>0.695229</td>\n",
              "      <td>0.750115</td>\n",
              "      <td>0.853845</td>\n",
              "      <td>0.916019</td>\n",
              "      <td>0.827750</td>\n",
              "      <td>0.880906</td>\n",
              "      <td>1.088831</td>\n",
              "      <td>0.931043</td>\n",
              "      <td>0.610298</td>\n",
              "      <td>0.638894</td>\n",
              "      <td>0.684679</td>\n",
              "      <td>0.583238</td>\n",
              "      <td>0.640522</td>\n",
              "      <td>0.708585</td>\n",
              "      <td>0.705011</td>\n",
              "      <td>0.713815</td>\n",
              "      <td>0.433765</td>\n",
              "    </tr>\n",
              "    <tr>\n",
              "      <th>1</th>\n",
              "      <td>1.0</td>\n",
              "      <td>0.147647</td>\n",
              "      <td>0.804668</td>\n",
              "      <td>0.367771</td>\n",
              "      <td>0.243894</td>\n",
              "      <td>0.026614</td>\n",
              "      <td>-0.274402</td>\n",
              "      <td>0.096731</td>\n",
              "      <td>-0.747731</td>\n",
              "      <td>-1.609777</td>\n",
              "      <td>-1.179593</td>\n",
              "      <td>-1.055926</td>\n",
              "      <td>-1.128777</td>\n",
              "      <td>-0.686039</td>\n",
              "      <td>-0.798789</td>\n",
              "      <td>-1.714279</td>\n",
              "      <td>-1.649858</td>\n",
              "      <td>-1.032699</td>\n",
              "      <td>-1.423918</td>\n",
              "      <td>-1.782433</td>\n",
              "      <td>-1.025126</td>\n",
              "      <td>-1.798909</td>\n",
              "      <td>-1.793614</td>\n",
              "      <td>-1.085478</td>\n",
              "      <td>-1.574390</td>\n",
              "      <td>-1.036059</td>\n",
              "      <td>-2.130021</td>\n",
              "      <td>-2.038621</td>\n",
              "      <td>-0.055013</td>\n",
              "      <td>-1.140195</td>\n",
              "      <td>-0.704275</td>\n",
              "      <td>0.048723</td>\n",
              "      <td>-0.475854</td>\n",
              "      <td>0.525865</td>\n",
              "      <td>0.244778</td>\n",
              "      <td>0.679932</td>\n",
              "      <td>0.928601</td>\n",
              "      <td>0.573041</td>\n",
              "      <td>1.231607</td>\n",
              "      <td>1.043324</td>\n",
              "      <td>...</td>\n",
              "      <td>0.631120</td>\n",
              "      <td>0.694075</td>\n",
              "      <td>0.515071</td>\n",
              "      <td>0.559229</td>\n",
              "      <td>0.555712</td>\n",
              "      <td>0.469694</td>\n",
              "      <td>0.388821</td>\n",
              "      <td>0.343129</td>\n",
              "      <td>0.535598</td>\n",
              "      <td>0.900708</td>\n",
              "      <td>0.656846</td>\n",
              "      <td>0.690033</td>\n",
              "      <td>0.952596</td>\n",
              "      <td>0.547770</td>\n",
              "      <td>-0.167693</td>\n",
              "      <td>0.011532</td>\n",
              "      <td>-0.176488</td>\n",
              "      <td>-0.277706</td>\n",
              "      <td>-0.224836</td>\n",
              "      <td>-0.910723</td>\n",
              "      <td>-0.037932</td>\n",
              "      <td>0.071668</td>\n",
              "      <td>-1.048920</td>\n",
              "      <td>-0.636218</td>\n",
              "      <td>-0.386637</td>\n",
              "      <td>-0.507512</td>\n",
              "      <td>-0.716656</td>\n",
              "      <td>-0.463758</td>\n",
              "      <td>-0.460442</td>\n",
              "      <td>-0.770792</td>\n",
              "      <td>-0.533503</td>\n",
              "      <td>-0.400228</td>\n",
              "      <td>0.176084</td>\n",
              "      <td>1.111768</td>\n",
              "      <td>2.438428</td>\n",
              "      <td>2.734889</td>\n",
              "      <td>1.736054</td>\n",
              "      <td>0.036857</td>\n",
              "      <td>-1.265074</td>\n",
              "      <td>-0.208024</td>\n",
              "    </tr>\n",
              "    <tr>\n",
              "      <th>2</th>\n",
              "      <td>-1.0</td>\n",
              "      <td>0.316646</td>\n",
              "      <td>0.243199</td>\n",
              "      <td>0.370471</td>\n",
              "      <td>1.063738</td>\n",
              "      <td>1.678187</td>\n",
              "      <td>1.759558</td>\n",
              "      <td>1.697717</td>\n",
              "      <td>1.612159</td>\n",
              "      <td>1.168188</td>\n",
              "      <td>0.499957</td>\n",
              "      <td>-0.022363</td>\n",
              "      <td>-0.235318</td>\n",
              "      <td>-0.118273</td>\n",
              "      <td>-0.071027</td>\n",
              "      <td>-0.322986</td>\n",
              "      <td>-0.433562</td>\n",
              "      <td>-0.318660</td>\n",
              "      <td>-0.295655</td>\n",
              "      <td>-0.417733</td>\n",
              "      <td>-0.682480</td>\n",
              "      <td>-0.881840</td>\n",
              "      <td>-0.843320</td>\n",
              "      <td>-0.883652</td>\n",
              "      <td>-1.030018</td>\n",
              "      <td>-1.055265</td>\n",
              "      <td>-1.168637</td>\n",
              "      <td>-1.363991</td>\n",
              "      <td>-1.337611</td>\n",
              "      <td>-1.261294</td>\n",
              "      <td>-1.409782</td>\n",
              "      <td>-1.634504</td>\n",
              "      <td>-1.703238</td>\n",
              "      <td>-1.677025</td>\n",
              "      <td>-1.782628</td>\n",
              "      <td>-1.996872</td>\n",
              "      <td>-2.056372</td>\n",
              "      <td>-1.937881</td>\n",
              "      <td>-1.879412</td>\n",
              "      <td>-1.915427</td>\n",
              "      <td>...</td>\n",
              "      <td>0.675666</td>\n",
              "      <td>0.699885</td>\n",
              "      <td>0.732561</td>\n",
              "      <td>0.771665</td>\n",
              "      <td>0.738129</td>\n",
              "      <td>0.723700</td>\n",
              "      <td>0.806876</td>\n",
              "      <td>0.878984</td>\n",
              "      <td>0.855791</td>\n",
              "      <td>0.806384</td>\n",
              "      <td>0.792501</td>\n",
              "      <td>0.803814</td>\n",
              "      <td>0.781938</td>\n",
              "      <td>0.700439</td>\n",
              "      <td>0.735960</td>\n",
              "      <td>0.864162</td>\n",
              "      <td>0.707670</td>\n",
              "      <td>0.458756</td>\n",
              "      <td>0.600146</td>\n",
              "      <td>0.825136</td>\n",
              "      <td>0.800034</td>\n",
              "      <td>0.762821</td>\n",
              "      <td>0.755443</td>\n",
              "      <td>0.653766</td>\n",
              "      <td>0.526441</td>\n",
              "      <td>0.477339</td>\n",
              "      <td>0.574946</td>\n",
              "      <td>0.698425</td>\n",
              "      <td>0.722414</td>\n",
              "      <td>0.771598</td>\n",
              "      <td>0.764229</td>\n",
              "      <td>0.610621</td>\n",
              "      <td>0.552900</td>\n",
              "      <td>0.566786</td>\n",
              "      <td>0.604002</td>\n",
              "      <td>0.777068</td>\n",
              "      <td>0.812345</td>\n",
              "      <td>0.748848</td>\n",
              "      <td>0.818042</td>\n",
              "      <td>0.539347</td>\n",
              "    </tr>\n",
              "  </tbody>\n",
              "</table>\n",
              "<p>3 rows × 97 columns</p>\n",
              "</div>\n",
              "      <button class=\"colab-df-convert\" onclick=\"convertToInteractive('df-2edb0e37-01bd-4ede-a36c-6559584ed502')\"\n",
              "              title=\"Convert this dataframe to an interactive table.\"\n",
              "              style=\"display:none;\">\n",
              "        \n",
              "  <svg xmlns=\"http://www.w3.org/2000/svg\" height=\"24px\"viewBox=\"0 0 24 24\"\n",
              "       width=\"24px\">\n",
              "    <path d=\"M0 0h24v24H0V0z\" fill=\"none\"/>\n",
              "    <path d=\"M18.56 5.44l.94 2.06.94-2.06 2.06-.94-2.06-.94-.94-2.06-.94 2.06-2.06.94zm-11 1L8.5 8.5l.94-2.06 2.06-.94-2.06-.94L8.5 2.5l-.94 2.06-2.06.94zm10 10l.94 2.06.94-2.06 2.06-.94-2.06-.94-.94-2.06-.94 2.06-2.06.94z\"/><path d=\"M17.41 7.96l-1.37-1.37c-.4-.4-.92-.59-1.43-.59-.52 0-1.04.2-1.43.59L10.3 9.45l-7.72 7.72c-.78.78-.78 2.05 0 2.83L4 21.41c.39.39.9.59 1.41.59.51 0 1.02-.2 1.41-.59l7.78-7.78 2.81-2.81c.8-.78.8-2.07 0-2.86zM5.41 20L4 18.59l7.72-7.72 1.47 1.35L5.41 20z\"/>\n",
              "  </svg>\n",
              "      </button>\n",
              "      \n",
              "  <style>\n",
              "    .colab-df-container {\n",
              "      display:flex;\n",
              "      flex-wrap:wrap;\n",
              "      gap: 12px;\n",
              "    }\n",
              "\n",
              "    .colab-df-convert {\n",
              "      background-color: #E8F0FE;\n",
              "      border: none;\n",
              "      border-radius: 50%;\n",
              "      cursor: pointer;\n",
              "      display: none;\n",
              "      fill: #1967D2;\n",
              "      height: 32px;\n",
              "      padding: 0 0 0 0;\n",
              "      width: 32px;\n",
              "    }\n",
              "\n",
              "    .colab-df-convert:hover {\n",
              "      background-color: #E2EBFA;\n",
              "      box-shadow: 0px 1px 2px rgba(60, 64, 67, 0.3), 0px 1px 3px 1px rgba(60, 64, 67, 0.15);\n",
              "      fill: #174EA6;\n",
              "    }\n",
              "\n",
              "    [theme=dark] .colab-df-convert {\n",
              "      background-color: #3B4455;\n",
              "      fill: #D2E3FC;\n",
              "    }\n",
              "\n",
              "    [theme=dark] .colab-df-convert:hover {\n",
              "      background-color: #434B5C;\n",
              "      box-shadow: 0px 1px 3px 1px rgba(0, 0, 0, 0.15);\n",
              "      filter: drop-shadow(0px 1px 2px rgba(0, 0, 0, 0.3));\n",
              "      fill: #FFFFFF;\n",
              "    }\n",
              "  </style>\n",
              "\n",
              "      <script>\n",
              "        const buttonEl =\n",
              "          document.querySelector('#df-2edb0e37-01bd-4ede-a36c-6559584ed502 button.colab-df-convert');\n",
              "        buttonEl.style.display =\n",
              "          google.colab.kernel.accessAllowed ? 'block' : 'none';\n",
              "\n",
              "        async function convertToInteractive(key) {\n",
              "          const element = document.querySelector('#df-2edb0e37-01bd-4ede-a36c-6559584ed502');\n",
              "          const dataTable =\n",
              "            await google.colab.kernel.invokeFunction('convertToInteractive',\n",
              "                                                     [key], {});\n",
              "          if (!dataTable) return;\n",
              "\n",
              "          const docLinkHtml = 'Like what you see? Visit the ' +\n",
              "            '<a target=\"_blank\" href=https://colab.research.google.com/notebooks/data_table.ipynb>data table notebook</a>'\n",
              "            + ' to learn more about interactive tables.';\n",
              "          element.innerHTML = '';\n",
              "          dataTable['output_type'] = 'display_data';\n",
              "          await google.colab.output.renderOutput(dataTable, element);\n",
              "          const docLink = document.createElement('div');\n",
              "          docLink.innerHTML = docLinkHtml;\n",
              "          element.appendChild(docLink);\n",
              "        }\n",
              "      </script>\n",
              "    </div>\n",
              "  </div>\n",
              "  "
            ],
            "text/plain": [
              "     1         2         3         4  ...        94        95        96        97\n",
              "0 -1.0  0.502055  0.542163  0.722383  ...  0.708585  0.705011  0.713815  0.433765\n",
              "1  1.0  0.147647  0.804668  0.367771  ...  1.736054  0.036857 -1.265074 -0.208024\n",
              "2 -1.0  0.316646  0.243199  0.370471  ...  0.812345  0.748848  0.818042  0.539347\n",
              "\n",
              "[3 rows x 97 columns]"
            ]
          },
          "metadata": {},
          "execution_count": 4
        }
      ],
      "source": [
        "df = pd.read_csv('./train.csv')\n",
        "df1 = df.iloc[:,1:]\n",
        "print('dataframe shape :',df.shape)\n",
        "df.head(3)"
      ],
      "id": "ace05219"
    },
    {
      "cell_type": "markdown",
      "metadata": {
        "id": "c24d4b38"
      },
      "source": [
        "# Label Distribution"
      ],
      "id": "c24d4b38"
    },
    {
      "cell_type": "code",
      "execution_count": 5,
      "metadata": {
        "colab": {
          "base_uri": "https://localhost:8080/"
        },
        "id": "8cfc73d4",
        "outputId": "0b2fa295-5c17-4467-f984-f900a61a230e"
      },
      "outputs": [
        {
          "output_type": "stream",
          "name": "stdout",
          "text": [
            " 1 : Normal\n",
            "-1 : Myocardial Infarction\n",
            "\n",
            " Value count \n"
          ]
        },
        {
          "output_type": "execute_result",
          "data": {
            "text/plain": [
              " 1.0    69\n",
              "-1.0    31\n",
              "Name: 1, dtype: int64"
            ]
          },
          "metadata": {},
          "execution_count": 5
        }
      ],
      "source": [
        "print(' 1 : Normal')\n",
        "print('-1 : Myocardial Infarction')\n",
        "print('\\n Value count ')\n",
        "df['1'].value_counts()"
      ],
      "id": "8cfc73d4"
    },
    {
      "cell_type": "markdown",
      "metadata": {
        "id": "8dda10be"
      },
      "source": [
        "# Normal ECG Plot"
      ],
      "id": "8dda10be"
    },
    {
      "cell_type": "code",
      "execution_count": 6,
      "metadata": {
        "colab": {
          "base_uri": "https://localhost:8080/",
          "height": 282
        },
        "id": "8a02aefa",
        "outputId": "2b57175b-498a-4d0c-e59d-ddc2b31f5200"
      },
      "outputs": [
        {
          "output_type": "execute_result",
          "data": {
            "text/plain": [
              "[<matplotlib.lines.Line2D at 0x7f28c25c8310>]"
            ]
          },
          "metadata": {},
          "execution_count": 6
        },
        {
          "output_type": "display_data",
          "data": {
            "image/png": "[encoded data removed]",
            "text/plain": [
              "<Figure size 432x288 with 1 Axes>"
            ]
          },
          "metadata": {
            "needs_background": "light"
          }
        }
      ],
      "source": [
        "plt.plot(df.iloc[1,1:])"
      ],
      "id": "8a02aefa"
    },
    {
      "cell_type": "markdown",
      "metadata": {
        "id": "53a896fe"
      },
      "source": [
        "# Abnormal ECG plot : Myocardial Infarction"
      ],
      "id": "53a896fe"
    },
    {
      "cell_type": "code",
      "execution_count": 7,
      "metadata": {
        "colab": {
          "base_uri": "https://localhost:8080/",
          "height": 282
        },
        "id": "2431c2e4",
        "outputId": "435c4301-7832-44ca-c018-7562b75b89be"
      },
      "outputs": [
        {
          "output_type": "execute_result",
          "data": {
            "text/plain": [
              "[<matplotlib.lines.Line2D at 0x7f28c01063d0>]"
            ]
          },
          "metadata": {},
          "execution_count": 7
        },
        {
          "output_type": "display_data",
          "data": {
            "image/png": "[encoded data removed]",
            "text/plain": [
              "<Figure size 432x288 with 1 Axes>"
            ]
          },
          "metadata": {
            "needs_background": "light"
          }
        }
      ],
      "source": [
        "plt.plot(df.iloc[0,1:])"
      ],
      "id": "2431c2e4"
    },
    {
      "cell_type": "markdown",
      "metadata": {
        "id": "39725f8b"
      },
      "source": [
        "# ECG Data Stats"
      ],
      "id": "39725f8b"
    },
    {
      "cell_type": "code",
      "execution_count": 8,
      "metadata": {
        "colab": {
          "base_uri": "https://localhost:8080/"
        },
        "id": "7091720c",
        "outputId": "1aad875c-0fba-43d0-d9b7-51b69a7eab20"
      },
      "outputs": [
        {
          "output_type": "stream",
          "name": "stdout",
          "text": [
            "max electric signal recorded : 4.1991449\n",
            "min electric signal recorded : -2.6171746\n",
            "mean electric signal recorded : 1.563919808470852e-10\n",
            "std electric signal recorded : 0.9947780323086644\n"
          ]
        }
      ],
      "source": [
        "a = []\n",
        "for i in range(0,df.shape[0]): a = a + list(df.iloc[i,1:])\n",
        "\n",
        "print('max electric signal recorded :', max(a))\n",
        "print('min electric signal recorded :', min(a))\n",
        "print('mean electric signal recorded :', np.mean(a))\n",
        "print('std electric signal recorded :', np.std(a))"
      ],
      "id": "7091720c"
    },
    {
      "cell_type": "markdown",
      "metadata": {
        "id": "H4bZfqzqt3j1"
      },
      "source": [
        "# Model"
      ],
      "id": "H4bZfqzqt3j1"
    },
    {
      "cell_type": "markdown",
      "metadata": {
        "id": "9FMYGR7maMT-"
      },
      "source": [
        "**Create Model**"
      ],
      "id": "9FMYGR7maMT-"
    },
    {
      "cell_type": "code",
      "execution_count": 9,
      "metadata": {
        "colab": {
          "base_uri": "https://localhost:8080/"
        },
        "id": "df9e0008",
        "outputId": "8bedbb81-ff1a-4a37-f9a4-376da912b4be"
      },
      "outputs": [
        {
          "output_type": "stream",
          "name": "stdout",
          "text": [
            "Model: \"model\"\n",
            "__________________________________________________________________________________________________\n",
            " Layer (type)                   Output Shape         Param #     Connected to                     \n",
            "==================================================================================================\n",
            " input_1 (InputLayer)           [(None, 96, 1)]      0           []                               \n",
            "                                                                                                  \n",
            " conv1d (Conv1D)                (None, 93, 32)       160         ['input_1[0][0]']                \n",
            "                                                                                                  \n",
            " conv1d_1 (Conv1D)              (None, 89, 32)       288         ['input_1[0][0]']                \n",
            "                                                                                                  \n",
            " dropout (Dropout)              (None, 93, 32)       0           ['conv1d[0][0]']                 \n",
            "                                                                                                  \n",
            " dropout_1 (Dropout)            (None, 89, 32)       0           ['conv1d_1[0][0]']               \n",
            "                                                                                                  \n",
            " max_pooling1d (MaxPooling1D)   (None, 46, 32)       0           ['dropout[0][0]']                \n",
            "                                                                                                  \n",
            " max_pooling1d_1 (MaxPooling1D)  (None, 44, 32)      0           ['dropout_1[0][0]']              \n",
            "                                                                                                  \n",
            " flatten (Flatten)              (None, 1472)         0           ['max_pooling1d[0][0]']          \n",
            "                                                                                                  \n",
            " flatten_1 (Flatten)            (None, 1408)         0           ['max_pooling1d_1[0][0]']        \n",
            "                                                                                                  \n",
            " concatenate (Concatenate)      (None, 2880)         0           ['flatten[0][0]',                \n",
            "                                                                  'flatten_1[0][0]']              \n",
            "                                                                                                  \n",
            " batch_normalization (BatchNorm  (None, 2880)        11520       ['concatenate[0][0]']            \n",
            " alization)                                                                                       \n",
            "                                                                                                  \n",
            " dense (Dense)                  (None, 1)            2881        ['batch_normalization[0][0]']    \n",
            "                                                                                                  \n",
            "==================================================================================================\n",
            "Total params: 14,849\n",
            "Trainable params: 9,089\n",
            "Non-trainable params: 5,760\n",
            "__________________________________________________________________________________________________\n"
          ]
        }
      ],
      "source": [
        "tf.keras.backend.clear_session()\n",
        "\n",
        "input1 = tf.keras.layers.Input(shape=(96,1))  \n",
        "\n",
        "conv1 = tf.keras.layers.Conv1D(filters=32, kernel_size=4, activation='relu',strides=1)(input1)\n",
        "drop1 = tf.keras.layers.Dropout(0.5)(conv1)\n",
        "pool1 = tf.keras.layers.MaxPooling1D(pool_size=2)(drop1)\n",
        "flat1 = tf.keras.layers.Flatten()(pool1)\n",
        "\n",
        "conv2 = tf.keras.layers.Conv1D(filters=32, kernel_size=8, activation='relu',strides=1)(input1)\n",
        "drop2 = tf.keras.layers.Dropout(0.5)(conv2)\n",
        "pool2 = tf.keras.layers.MaxPooling1D(pool_size=2)(drop2)\n",
        "flat2 = tf.keras.layers.Flatten()(pool2)\n",
        "\n",
        "# conv3 = tf.keras.layers.Conv1D(filters=7, kernel_size=12, activation='relu', strides=1)(input1)\n",
        "# drop3 = tf.keras.layers.Dropout(0.5)(conv3)\n",
        "# pool3 = tf.keras.layers.MaxPooling1D(pool_size=2)(drop3)\n",
        "# flat3 = tf.keras.layers.Flatten()(pool3)\n",
        "\n",
        "# conv4 = tf.keras.layers.Conv1D(filters=7, kernel_size=24, activation='relu',strides=1)(input1)\n",
        "# drop4 = tf.keras.layers.Dropout(0.5)(conv4)\n",
        "# pool4 = tf.keras.layers.MaxPooling1D(pool_size=2)(drop4)\n",
        "# flat4 = tf.keras.layers.Flatten()(pool4)\n",
        "\n",
        "concate = tf.keras.layers.Concatenate()([flat1,flat2])\n",
        "\n",
        "batch_norm = tf.keras.layers.BatchNormalization()(concate)\n",
        "\n",
        "outputs = tf.keras.layers.Dense(1, activation='sigmoid')(batch_norm)\n",
        "\n",
        "model = tf.keras.Model(inputs=input1, outputs=outputs)\n",
        "\n",
        "model.summary()"
      ],
      "id": "df9e0008"
    },
    {
      "cell_type": "markdown",
      "metadata": {
        "id": "6aKVPrbDaXAT"
      },
      "source": [
        "**Define loss optimizer and compile**"
      ],
      "id": "6aKVPrbDaXAT"
    },
    {
      "cell_type": "code",
      "execution_count": 10,
      "metadata": {
        "id": "c9320a55"
      },
      "outputs": [],
      "source": [
        "model.compile(loss=tfa.losses.SigmoidFocalCrossEntropy(), optimizer='adam', metrics=[tf.keras.metrics.Precision(thresholds=0.5),'accuracy'])"
      ],
      "id": "c9320a55"
    },
    {
      "cell_type": "markdown",
      "metadata": {
        "id": "Oqkcf6uVaddR"
      },
      "source": [
        "**Create Callback**"
      ],
      "id": "Oqkcf6uVaddR"
    },
    {
      "cell_type": "code",
      "execution_count": 11,
      "metadata": {
        "id": "RHKuCN-cNaum"
      },
      "outputs": [],
      "source": [
        "callback = tf.keras.callbacks.ModelCheckpoint(\n",
        "    '/content/saved_model/', monitor='val_accuracy', verbose=0, save_best_only=True,\n",
        "    save_freq='epoch'\n",
        ")"
      ],
      "id": "RHKuCN-cNaum"
    },
    {
      "cell_type": "markdown",
      "metadata": {
        "id": "gFBOWTR7ahym"
      },
      "source": [
        "**Train Model**"
      ],
      "id": "gFBOWTR7ahym"
    },
    {
      "cell_type": "code",
      "execution_count": 12,
      "metadata": {
        "colab": {
          "base_uri": "https://localhost:8080/"
        },
        "id": "f571d98b",
        "outputId": "22f8efd1-ef1b-4ac3-9b61-c1cba731027c"
      },
      "outputs": [
        {
          "output_type": "stream",
          "name": "stdout",
          "text": [
            "Epoch 1/100\n",
            "1/5 [=====>........................] - ETA: 6s - loss: 0.1011 - precision: 0.9000 - accuracy: 0.6875INFO:tensorflow:Assets written to: /content/saved_model/assets\n",
            "5/5 [==============================] - 5s 874ms/step - loss: 0.0751 - precision: 0.8810 - accuracy: 0.7200 - val_loss: 0.0717 - val_precision: 0.6957 - val_accuracy: 0.7200\n",
            "Epoch 2/100\n",
            "5/5 [==============================] - 0s 23ms/step - loss: 0.0528 - precision: 0.9762 - accuracy: 0.8267 - val_loss: 0.0861 - val_precision: 0.6667 - val_accuracy: 0.6800\n",
            "Epoch 3/100\n",
            "5/5 [==============================] - 0s 22ms/step - loss: 0.0445 - precision: 0.9184 - accuracy: 0.8400 - val_loss: 0.1066 - val_precision: 0.6400 - val_accuracy: 0.6400\n",
            "Epoch 4/100\n",
            "5/5 [==============================] - 0s 27ms/step - loss: 0.0449 - precision: 0.9149 - accuracy: 0.8133 - val_loss: 0.1127 - val_precision: 0.6400 - val_accuracy: 0.6400\n",
            "Epoch 5/100\n",
            "5/5 [==============================] - 0s 23ms/step - loss: 0.0349 - precision: 0.9400 - accuracy: 0.8800 - val_loss: 0.1066 - val_precision: 0.6400 - val_accuracy: 0.6400\n",
            "Epoch 6/100\n",
            "5/5 [==============================] - 0s 30ms/step - loss: 0.0248 - precision: 1.0000 - accuracy: 0.8933 - val_loss: 0.1113 - val_precision: 0.6667 - val_accuracy: 0.6800\n",
            "Epoch 7/100\n",
            "5/5 [==============================] - 0s 29ms/step - loss: 0.0329 - precision: 0.9778 - accuracy: 0.8667 - val_loss: 0.1265 - val_precision: 0.6400 - val_accuracy: 0.6400\n",
            "Epoch 8/100\n",
            "5/5 [==============================] - 0s 33ms/step - loss: 0.0291 - precision: 0.9592 - accuracy: 0.8933 - val_loss: 0.1471 - val_precision: 0.6400 - val_accuracy: 0.6400\n",
            "Epoch 9/100\n",
            "5/5 [==============================] - 0s 24ms/step - loss: 0.0168 - precision: 0.9800 - accuracy: 0.9333 - val_loss: 0.1556 - val_precision: 0.6400 - val_accuracy: 0.6400\n",
            "Epoch 10/100\n",
            "5/5 [==============================] - 0s 23ms/step - loss: 0.0373 - precision: 0.9412 - accuracy: 0.8933 - val_loss: 0.1385 - val_precision: 0.6400 - val_accuracy: 0.6400\n",
            "Epoch 11/100\n",
            "5/5 [==============================] - 0s 21ms/step - loss: 0.0115 - precision: 1.0000 - accuracy: 0.9467 - val_loss: 0.1359 - val_precision: 0.6400 - val_accuracy: 0.6400\n",
            "Epoch 12/100\n",
            "5/5 [==============================] - 0s 20ms/step - loss: 0.0206 - precision: 1.0000 - accuracy: 0.9200 - val_loss: 0.1465 - val_precision: 0.6400 - val_accuracy: 0.6400\n",
            "Epoch 13/100\n",
            "5/5 [==============================] - 0s 20ms/step - loss: 0.0208 - precision: 0.9800 - accuracy: 0.9333 - val_loss: 0.1520 - val_precision: 0.6400 - val_accuracy: 0.6400\n",
            "Epoch 14/100\n",
            "5/5 [==============================] - 0s 25ms/step - loss: 0.0148 - precision: 0.9630 - accuracy: 0.9600 - val_loss: 0.1462 - val_precision: 0.6400 - val_accuracy: 0.6400\n",
            "Epoch 15/100\n",
            "5/5 [==============================] - 0s 23ms/step - loss: 0.0369 - precision: 0.9362 - accuracy: 0.8400 - val_loss: 0.1391 - val_precision: 0.6400 - val_accuracy: 0.6400\n",
            "Epoch 16/100\n",
            "5/5 [==============================] - 0s 23ms/step - loss: 0.0127 - precision: 0.9800 - accuracy: 0.9333 - val_loss: 0.1276 - val_precision: 0.6667 - val_accuracy: 0.6800\n",
            "Epoch 17/100\n",
            "5/5 [==============================] - 0s 25ms/step - loss: 0.0099 - precision: 0.9804 - accuracy: 0.9467 - val_loss: 0.1218 - val_precision: 0.6667 - val_accuracy: 0.6800\n",
            "Epoch 18/100\n",
            "5/5 [==============================] - 0s 33ms/step - loss: 0.0076 - precision: 1.0000 - accuracy: 0.9600 - val_loss: 0.1189 - val_precision: 0.6667 - val_accuracy: 0.6800\n",
            "Epoch 19/100\n",
            "5/5 [==============================] - 0s 24ms/step - loss: 0.0407 - precision: 0.9231 - accuracy: 0.8800 - val_loss: 0.0982 - val_precision: 0.6957 - val_accuracy: 0.7200\n",
            "Epoch 20/100\n",
            "5/5 [==============================] - 0s 25ms/step - loss: 0.0254 - precision: 1.0000 - accuracy: 0.9467 - val_loss: 0.1011 - val_precision: 0.6667 - val_accuracy: 0.6800\n",
            "Epoch 21/100\n",
            "5/5 [==============================] - 0s 23ms/step - loss: 0.0165 - precision: 0.9800 - accuracy: 0.9333 - val_loss: 0.1035 - val_precision: 0.6667 - val_accuracy: 0.6800\n",
            "Epoch 22/100\n",
            "5/5 [==============================] - 0s 25ms/step - loss: 0.0211 - precision: 0.9608 - accuracy: 0.9200 - val_loss: 0.1053 - val_precision: 0.6667 - val_accuracy: 0.6800\n",
            "Epoch 23/100\n",
            "5/5 [==============================] - 0s 24ms/step - loss: 0.0163 - precision: 0.9623 - accuracy: 0.9467 - val_loss: 0.1029 - val_precision: 0.6667 - val_accuracy: 0.6800\n",
            "Epoch 24/100\n",
            "5/5 [==============================] - 0s 20ms/step - loss: 0.0119 - precision: 1.0000 - accuracy: 0.9333 - val_loss: 0.1001 - val_precision: 0.6667 - val_accuracy: 0.6800\n",
            "Epoch 25/100\n",
            "5/5 [==============================] - 0s 33ms/step - loss: 0.0064 - precision: 0.9636 - accuracy: 0.9733 - val_loss: 0.0968 - val_precision: 0.6957 - val_accuracy: 0.7200\n",
            "Epoch 26/100\n",
            "5/5 [==============================] - 0s 26ms/step - loss: 0.0082 - precision: 1.0000 - accuracy: 0.9467 - val_loss: 0.0899 - val_precision: 0.6957 - val_accuracy: 0.7200\n",
            "Epoch 27/100\n",
            "1/5 [=====>........................] - ETA: 0s - loss: 0.0049 - precision: 1.0000 - accuracy: 1.0000INFO:tensorflow:Assets written to: /content/saved_model/assets\n",
            "5/5 [==============================] - 5s 1s/step - loss: 0.0053 - precision: 1.0000 - accuracy: 0.9600 - val_loss: 0.0871 - val_precision: 0.7273 - val_accuracy: 0.7600\n",
            "Epoch 28/100\n",
            "5/5 [==============================] - 0s 26ms/step - loss: 0.0082 - precision: 1.0000 - accuracy: 0.9600 - val_loss: 0.0874 - val_precision: 0.6957 - val_accuracy: 0.7200\n",
            "Epoch 29/100\n",
            "5/5 [==============================] - 0s 30ms/step - loss: 0.0108 - precision: 1.0000 - accuracy: 0.9333 - val_loss: 0.0957 - val_precision: 0.6957 - val_accuracy: 0.7200\n",
            "Epoch 30/100\n",
            "5/5 [==============================] - 0s 23ms/step - loss: 0.0164 - precision: 0.9623 - accuracy: 0.9467 - val_loss: 0.0795 - val_precision: 0.7273 - val_accuracy: 0.7600\n",
            "Epoch 31/100\n",
            "1/5 [=====>........................] - ETA: 0s - loss: 0.0037 - precision: 1.0000 - accuracy: 1.0000INFO:tensorflow:Assets written to: /content/saved_model/assets\n",
            "5/5 [==============================] - 5s 1s/step - loss: 0.0107 - precision: 1.0000 - accuracy: 0.9600 - val_loss: 0.0764 - val_precision: 0.7619 - val_accuracy: 0.8000\n",
            "Epoch 32/100\n",
            "5/5 [==============================] - 0s 40ms/step - loss: 0.0074 - precision: 1.0000 - accuracy: 0.9867 - val_loss: 0.0796 - val_precision: 0.7273 - val_accuracy: 0.7600\n",
            "Epoch 33/100\n",
            "5/5 [==============================] - 0s 34ms/step - loss: 0.0094 - precision: 0.9808 - accuracy: 0.9600 - val_loss: 0.0767 - val_precision: 0.7273 - val_accuracy: 0.7600\n",
            "Epoch 34/100\n",
            "5/5 [==============================] - 0s 21ms/step - loss: 0.0081 - precision: 1.0000 - accuracy: 0.9733 - val_loss: 0.0799 - val_precision: 0.7273 - val_accuracy: 0.7600\n",
            "Epoch 35/100\n",
            "5/5 [==============================] - 0s 31ms/step - loss: 0.0059 - precision: 1.0000 - accuracy: 0.9867 - val_loss: 0.0849 - val_precision: 0.6957 - val_accuracy: 0.7200\n",
            "Epoch 36/100\n",
            "5/5 [==============================] - 0s 24ms/step - loss: 0.0139 - precision: 0.9608 - accuracy: 0.9200 - val_loss: 0.0716 - val_precision: 0.7619 - val_accuracy: 0.8000\n",
            "Epoch 37/100\n",
            "5/5 [==============================] - 0s 41ms/step - loss: 0.0093 - precision: 1.0000 - accuracy: 0.9867 - val_loss: 0.0702 - val_precision: 0.7895 - val_accuracy: 0.8000\n",
            "Epoch 38/100\n",
            "5/5 [==============================] - 0s 43ms/step - loss: 0.0059 - precision: 1.0000 - accuracy: 0.9867 - val_loss: 0.0721 - val_precision: 0.7895 - val_accuracy: 0.8000\n",
            "Epoch 39/100\n",
            "5/5 [==============================] - ETA: 0s - loss: 0.0044 - precision: 1.0000 - accuracy: 0.9867INFO:tensorflow:Assets written to: /content/saved_model/assets\n",
            "5/5 [==============================] - 5s 1s/step - loss: 0.0044 - precision: 1.0000 - accuracy: 0.9867 - val_loss: 0.0744 - val_precision: 0.8000 - val_accuracy: 0.8400\n",
            "Epoch 40/100\n",
            "5/5 [==============================] - 0s 35ms/step - loss: 0.0015 - precision: 1.0000 - accuracy: 1.0000 - val_loss: 0.0737 - val_precision: 0.7619 - val_accuracy: 0.8000\n",
            "Epoch 41/100\n",
            "5/5 [==============================] - 0s 44ms/step - loss: 0.0146 - precision: 0.9811 - accuracy: 0.9733 - val_loss: 0.0696 - val_precision: 0.7619 - val_accuracy: 0.8000\n",
            "Epoch 42/100\n",
            "5/5 [==============================] - 0s 32ms/step - loss: 0.0076 - precision: 0.9808 - accuracy: 0.9600 - val_loss: 0.0603 - val_precision: 0.8000 - val_accuracy: 0.8400\n",
            "Epoch 43/100\n",
            "5/5 [==============================] - 0s 36ms/step - loss: 0.0060 - precision: 1.0000 - accuracy: 0.9600 - val_loss: 0.0524 - val_precision: 0.7895 - val_accuracy: 0.8000\n",
            "Epoch 44/100\n",
            "5/5 [==============================] - 0s 26ms/step - loss: 0.0068 - precision: 0.9811 - accuracy: 0.9733 - val_loss: 0.0447 - val_precision: 0.7895 - val_accuracy: 0.8000\n",
            "Epoch 45/100\n",
            "5/5 [==============================] - 0s 32ms/step - loss: 0.0057 - precision: 1.0000 - accuracy: 0.9600 - val_loss: 0.0434 - val_precision: 0.7895 - val_accuracy: 0.8000\n",
            "Epoch 46/100\n",
            "5/5 [==============================] - 0s 23ms/step - loss: 0.0155 - precision: 1.0000 - accuracy: 0.9200 - val_loss: 0.0508 - val_precision: 0.7895 - val_accuracy: 0.8000\n",
            "Epoch 47/100\n",
            "5/5 [==============================] - 0s 25ms/step - loss: 0.0034 - precision: 1.0000 - accuracy: 0.9867 - val_loss: 0.0569 - val_precision: 0.7895 - val_accuracy: 0.8000\n",
            "Epoch 48/100\n",
            "5/5 [==============================] - 0s 26ms/step - loss: 0.0139 - precision: 0.9808 - accuracy: 0.9600 - val_loss: 0.0546 - val_precision: 0.8000 - val_accuracy: 0.8400\n",
            "Epoch 49/100\n",
            "1/5 [=====>........................] - ETA: 0s - loss: 0.0042 - precision: 1.0000 - accuracy: 1.0000INFO:tensorflow:Assets written to: /content/saved_model/assets\n",
            "5/5 [==============================] - 5s 1s/step - loss: 0.0032 - precision: 1.0000 - accuracy: 1.0000 - val_loss: 0.0529 - val_precision: 0.8421 - val_accuracy: 0.8800\n",
            "Epoch 50/100\n",
            "5/5 [==============================] - 0s 24ms/step - loss: 0.0035 - precision: 1.0000 - accuracy: 0.9867 - val_loss: 0.0469 - val_precision: 0.8333 - val_accuracy: 0.8400\n",
            "Epoch 51/100\n",
            "5/5 [==============================] - 0s 42ms/step - loss: 0.0041 - precision: 1.0000 - accuracy: 0.9867 - val_loss: 0.0461 - val_precision: 0.8333 - val_accuracy: 0.8400\n",
            "Epoch 52/100\n",
            "5/5 [==============================] - 0s 23ms/step - loss: 0.0162 - precision: 0.9636 - accuracy: 0.9733 - val_loss: 0.0425 - val_precision: 0.8333 - val_accuracy: 0.8400\n",
            "Epoch 53/100\n",
            "5/5 [==============================] - 0s 28ms/step - loss: 0.0077 - precision: 1.0000 - accuracy: 0.9600 - val_loss: 0.0367 - val_precision: 0.7778 - val_accuracy: 0.7600\n",
            "Epoch 54/100\n",
            "5/5 [==============================] - 0s 22ms/step - loss: 0.0063 - precision: 1.0000 - accuracy: 0.9733 - val_loss: 0.0373 - val_precision: 0.7778 - val_accuracy: 0.7600\n",
            "Epoch 55/100\n",
            "5/5 [==============================] - 0s 19ms/step - loss: 0.0105 - precision: 1.0000 - accuracy: 0.9733 - val_loss: 0.0395 - val_precision: 0.7895 - val_accuracy: 0.8000\n",
            "Epoch 56/100\n",
            "5/5 [==============================] - 0s 25ms/step - loss: 0.0014 - precision: 1.0000 - accuracy: 1.0000 - val_loss: 0.0413 - val_precision: 0.7895 - val_accuracy: 0.8000\n",
            "Epoch 57/100\n",
            "5/5 [==============================] - 0s 37ms/step - loss: 0.0053 - precision: 0.9808 - accuracy: 0.9600 - val_loss: 0.0438 - val_precision: 0.7895 - val_accuracy: 0.8000\n",
            "Epoch 58/100\n",
            "5/5 [==============================] - 0s 33ms/step - loss: 0.0265 - precision: 0.9434 - accuracy: 0.9200 - val_loss: 0.0390 - val_precision: 0.7895 - val_accuracy: 0.8000\n",
            "Epoch 59/100\n",
            "5/5 [==============================] - 0s 20ms/step - loss: 0.0089 - precision: 1.0000 - accuracy: 0.9467 - val_loss: 0.0347 - val_precision: 0.7778 - val_accuracy: 0.7600\n",
            "Epoch 60/100\n",
            "5/5 [==============================] - 0s 32ms/step - loss: 0.0060 - precision: 1.0000 - accuracy: 0.9733 - val_loss: 0.0337 - val_precision: 0.8235 - val_accuracy: 0.8000\n",
            "Epoch 61/100\n",
            "5/5 [==============================] - 0s 28ms/step - loss: 0.0024 - precision: 1.0000 - accuracy: 0.9867 - val_loss: 0.0344 - val_precision: 0.8235 - val_accuracy: 0.8000\n",
            "Epoch 62/100\n",
            "5/5 [==============================] - 0s 25ms/step - loss: 0.0081 - precision: 1.0000 - accuracy: 0.9733 - val_loss: 0.0369 - val_precision: 0.8333 - val_accuracy: 0.8400\n",
            "Epoch 63/100\n",
            "5/5 [==============================] - 0s 23ms/step - loss: 0.0049 - precision: 1.0000 - accuracy: 0.9867 - val_loss: 0.0421 - val_precision: 0.8333 - val_accuracy: 0.8400\n",
            "Epoch 64/100\n",
            "5/5 [==============================] - 0s 13ms/step - loss: 0.0019 - precision: 1.0000 - accuracy: 1.0000 - val_loss: 0.0424 - val_precision: 0.7895 - val_accuracy: 0.8000\n",
            "Epoch 65/100\n",
            "5/5 [==============================] - 0s 14ms/step - loss: 0.0014 - precision: 1.0000 - accuracy: 1.0000 - val_loss: 0.0422 - val_precision: 0.7778 - val_accuracy: 0.7600\n",
            "Epoch 66/100\n",
            "5/5 [==============================] - 0s 14ms/step - loss: 0.0033 - precision: 1.0000 - accuracy: 0.9867 - val_loss: 0.0414 - val_precision: 0.7778 - val_accuracy: 0.7600\n",
            "Epoch 67/100\n",
            "5/5 [==============================] - 0s 13ms/step - loss: 0.0049 - precision: 1.0000 - accuracy: 0.9867 - val_loss: 0.0373 - val_precision: 0.8235 - val_accuracy: 0.8000\n",
            "Epoch 68/100\n",
            "5/5 [==============================] - 0s 16ms/step - loss: 9.5229e-04 - precision: 1.0000 - accuracy: 1.0000 - val_loss: 0.0348 - val_precision: 0.8235 - val_accuracy: 0.8000\n",
            "Epoch 69/100\n",
            "5/5 [==============================] - 0s 14ms/step - loss: 0.0015 - precision: 1.0000 - accuracy: 1.0000 - val_loss: 0.0337 - val_precision: 0.8750 - val_accuracy: 0.8400\n",
            "Epoch 70/100\n",
            "5/5 [==============================] - 0s 13ms/step - loss: 0.0404 - precision: 0.9259 - accuracy: 0.9067 - val_loss: 0.0273 - val_precision: 0.8750 - val_accuracy: 0.8400\n",
            "Epoch 71/100\n",
            "5/5 [==============================] - 0s 14ms/step - loss: 0.0030 - precision: 1.0000 - accuracy: 1.0000 - val_loss: 0.0241 - val_precision: 0.9333 - val_accuracy: 0.8800\n",
            "Epoch 72/100\n",
            "5/5 [==============================] - 0s 13ms/step - loss: 0.0019 - precision: 1.0000 - accuracy: 1.0000 - val_loss: 0.0251 - val_precision: 1.0000 - val_accuracy: 0.8800\n",
            "Epoch 73/100\n",
            "5/5 [==============================] - 0s 15ms/step - loss: 0.0152 - precision: 0.9808 - accuracy: 0.9600 - val_loss: 0.0283 - val_precision: 1.0000 - val_accuracy: 0.8800\n",
            "Epoch 74/100\n",
            "5/5 [==============================] - 0s 14ms/step - loss: 0.0021 - precision: 1.0000 - accuracy: 0.9733 - val_loss: 0.0358 - val_precision: 0.9231 - val_accuracy: 0.8000\n",
            "Epoch 75/100\n",
            "5/5 [==============================] - 0s 13ms/step - loss: 0.0090 - precision: 0.9808 - accuracy: 0.9600 - val_loss: 0.0371 - val_precision: 0.9231 - val_accuracy: 0.8000\n",
            "Epoch 76/100\n",
            "5/5 [==============================] - 0s 14ms/step - loss: 0.0091 - precision: 0.9815 - accuracy: 0.9867 - val_loss: 0.0329 - val_precision: 1.0000 - val_accuracy: 0.8000\n",
            "Epoch 77/100\n",
            "5/5 [==============================] - 0s 15ms/step - loss: 0.0028 - precision: 1.0000 - accuracy: 0.9867 - val_loss: 0.0374 - val_precision: 0.9231 - val_accuracy: 0.8000\n",
            "Epoch 78/100\n",
            "5/5 [==============================] - 0s 13ms/step - loss: 0.0034 - precision: 1.0000 - accuracy: 0.9867 - val_loss: 0.0403 - val_precision: 0.9231 - val_accuracy: 0.8000\n",
            "Epoch 79/100\n",
            "5/5 [==============================] - 0s 14ms/step - loss: 0.0109 - precision: 1.0000 - accuracy: 0.9067 - val_loss: 0.0387 - val_precision: 0.9167 - val_accuracy: 0.7600\n",
            "Epoch 80/100\n",
            "5/5 [==============================] - 0s 18ms/step - loss: 0.0030 - precision: 1.0000 - accuracy: 0.9867 - val_loss: 0.0362 - val_precision: 1.0000 - val_accuracy: 0.8000\n",
            "Epoch 81/100\n",
            "5/5 [==============================] - 0s 17ms/step - loss: 0.0012 - precision: 1.0000 - accuracy: 0.9867 - val_loss: 0.0348 - val_precision: 1.0000 - val_accuracy: 0.8400\n",
            "Epoch 82/100\n",
            "5/5 [==============================] - 0s 14ms/step - loss: 0.0018 - precision: 1.0000 - accuracy: 1.0000 - val_loss: 0.0338 - val_precision: 1.0000 - val_accuracy: 0.8400\n",
            "Epoch 83/100\n",
            "5/5 [==============================] - 0s 14ms/step - loss: 0.0189 - precision: 0.9804 - accuracy: 0.9467 - val_loss: 0.0297 - val_precision: 0.8750 - val_accuracy: 0.8400\n",
            "Epoch 84/100\n",
            "5/5 [==============================] - 0s 14ms/step - loss: 0.0030 - precision: 1.0000 - accuracy: 0.9867 - val_loss: 0.0278 - val_precision: 0.8750 - val_accuracy: 0.8400\n",
            "Epoch 85/100\n",
            "5/5 [==============================] - 0s 13ms/step - loss: 0.0036 - precision: 1.0000 - accuracy: 0.9867 - val_loss: 0.0262 - val_precision: 0.8750 - val_accuracy: 0.8400\n",
            "Epoch 86/100\n",
            "5/5 [==============================] - 0s 13ms/step - loss: 0.0032 - precision: 0.9811 - accuracy: 0.9733 - val_loss: 0.0253 - val_precision: 0.8750 - val_accuracy: 0.8400\n",
            "Epoch 87/100\n",
            "5/5 [==============================] - 0s 13ms/step - loss: 0.0047 - precision: 1.0000 - accuracy: 0.9867 - val_loss: 0.0271 - val_precision: 0.9286 - val_accuracy: 0.8400\n",
            "Epoch 88/100\n",
            "5/5 [==============================] - 0s 16ms/step - loss: 0.0046 - precision: 1.0000 - accuracy: 0.9867 - val_loss: 0.0268 - val_precision: 0.8750 - val_accuracy: 0.8400\n",
            "Epoch 89/100\n",
            "5/5 [==============================] - 0s 14ms/step - loss: 0.0075 - precision: 0.9815 - accuracy: 0.9867 - val_loss: 0.0264 - val_precision: 0.8750 - val_accuracy: 0.8400\n",
            "Epoch 90/100\n",
            "5/5 [==============================] - 0s 19ms/step - loss: 0.0011 - precision: 1.0000 - accuracy: 1.0000 - val_loss: 0.0270 - val_precision: 0.9286 - val_accuracy: 0.8400\n",
            "Epoch 91/100\n",
            "5/5 [==============================] - 0s 16ms/step - loss: 0.0027 - precision: 1.0000 - accuracy: 0.9867 - val_loss: 0.0270 - val_precision: 0.9286 - val_accuracy: 0.8400\n",
            "Epoch 92/100\n",
            "5/5 [==============================] - 0s 14ms/step - loss: 0.0031 - precision: 1.0000 - accuracy: 0.9867 - val_loss: 0.0264 - val_precision: 0.9286 - val_accuracy: 0.8400\n",
            "Epoch 93/100\n",
            "5/5 [==============================] - 0s 14ms/step - loss: 0.0102 - precision: 0.9630 - accuracy: 0.9600 - val_loss: 0.0259 - val_precision: 0.9333 - val_accuracy: 0.8800\n",
            "Epoch 94/100\n",
            "5/5 [==============================] - 0s 13ms/step - loss: 0.0050 - precision: 1.0000 - accuracy: 0.9600 - val_loss: 0.0268 - val_precision: 1.0000 - val_accuracy: 0.8800\n",
            "Epoch 95/100\n",
            "1/5 [=====>........................] - ETA: 0s - loss: 5.9698e-04 - precision: 1.0000 - accuracy: 1.0000INFO:tensorflow:Assets written to: /content/saved_model/assets\n",
            "5/5 [==============================] - 2s 568ms/step - loss: 0.0035 - precision: 1.0000 - accuracy: 0.9867 - val_loss: 0.0261 - val_precision: 1.0000 - val_accuracy: 0.9200\n",
            "Epoch 96/100\n",
            "5/5 [==============================] - 0s 14ms/step - loss: 0.0090 - precision: 1.0000 - accuracy: 0.9467 - val_loss: 0.0231 - val_precision: 0.8750 - val_accuracy: 0.8400\n",
            "Epoch 97/100\n",
            "5/5 [==============================] - 0s 15ms/step - loss: 0.0012 - precision: 1.0000 - accuracy: 1.0000 - val_loss: 0.0228 - val_precision: 0.8750 - val_accuracy: 0.8400\n",
            "Epoch 98/100\n",
            "5/5 [==============================] - 0s 13ms/step - loss: 0.0023 - precision: 1.0000 - accuracy: 0.9867 - val_loss: 0.0240 - val_precision: 0.8750 - val_accuracy: 0.8400\n",
            "Epoch 99/100\n",
            "5/5 [==============================] - 0s 14ms/step - loss: 0.0024 - precision: 1.0000 - accuracy: 1.0000 - val_loss: 0.0251 - val_precision: 0.8750 - val_accuracy: 0.8400\n",
            "Epoch 100/100\n",
            "5/5 [==============================] - 0s 14ms/step - loss: 0.0024 - precision: 1.0000 - accuracy: 0.9867 - val_loss: 0.0258 - val_precision: 0.8750 - val_accuracy: 0.8400\n"
          ]
        }
      ],
      "source": [
        "Model = model.fit(df1,np.array([1.0 if i==1 else 0.0 for i in df['1'] ]) , \n",
        "                  epochs=100, batch_size=16, validation_split= 0.25 ,\n",
        "                  callbacks = [callback])"
      ],
      "id": "f571d98b"
    },
    {
      "cell_type": "markdown",
      "metadata": {
        "id": "2t9mWPITQsrV"
      },
      "source": [
        "# Load model "
      ],
      "id": "2t9mWPITQsrV"
    },
    {
      "cell_type": "code",
      "execution_count": 13,
      "metadata": {
        "id": "rDrNyF4FOOgd"
      },
      "outputs": [],
      "source": [
        "loded_model = tf.keras.models.load_model('/content/saved_model/')"
      ],
      "id": "rDrNyF4FOOgd"
    },
    {
      "cell_type": "markdown",
      "metadata": {
        "id": "aJRAjfASbvHV"
      },
      "source": [
        "**Classification report on train set**"
      ],
      "id": "aJRAjfASbvHV"
    },
    {
      "cell_type": "code",
      "execution_count": 14,
      "metadata": {
        "colab": {
          "base_uri": "https://localhost:8080/"
        },
        "id": "mJh0iUul7QHu",
        "outputId": "6bf31def-99c3-449e-aaf6-74dbf78fcdb0"
      },
      "outputs": [
        {
          "output_type": "stream",
          "name": "stdout",
          "text": [
            "              precision    recall  f1-score   support\n",
            "\n",
            "         0.0       0.79      1.00      0.89        31\n",
            "         1.0       1.00      0.88      0.94        69\n",
            "\n",
            "    accuracy                           0.92       100\n",
            "   macro avg       0.90      0.94      0.91       100\n",
            "weighted avg       0.94      0.92      0.92       100\n",
            "\n"
          ]
        }
      ],
      "source": [
        "print(classification_report( [1.0 if i==1 else 0.0 for i in df['1'] ]  ,[ float(i[0]>0.5) for i in  loded_model.predict(df1) ]))"
      ],
      "id": "mJh0iUul7QHu"
    },
    {
      "cell_type": "markdown",
      "metadata": {
        "id": "2eHB4CPTCzFX"
      },
      "source": [
        "# Evaluation : Result on Test data"
      ],
      "id": "2eHB4CPTCzFX"
    },
    {
      "cell_type": "code",
      "execution_count": 15,
      "metadata": {
        "id": "JGzffhLOC2Ia"
      },
      "outputs": [],
      "source": [
        "test = pd.read_csv('./test.csv')\n",
        "truth_ = test['1']\n",
        "test = test.iloc[:,1:]"
      ],
      "id": "JGzffhLOC2Ia"
    },
    {
      "cell_type": "markdown",
      "metadata": {
        "id": "82m1MfJQb3GG"
      },
      "source": [
        "**Classification report on test set**"
      ],
      "id": "82m1MfJQb3GG"
    },
    {
      "cell_type": "code",
      "execution_count": 16,
      "metadata": {
        "colab": {
          "base_uri": "https://localhost:8080/"
        },
        "id": "0RNNPUuKC2t7",
        "outputId": "eec0b086-bb19-4251-d6b2-92ffbb2f7119"
      },
      "outputs": [
        {
          "output_type": "stream",
          "name": "stdout",
          "text": [
            "              precision    recall  f1-score   support\n",
            "\n",
            "         0.0       0.77      0.92      0.84        36\n",
            "         1.0       0.95      0.84      0.89        64\n",
            "\n",
            "    accuracy                           0.87       100\n",
            "   macro avg       0.86      0.88      0.86       100\n",
            "weighted avg       0.88      0.87      0.87       100\n",
            "\n"
          ]
        }
      ],
      "source": [
        "print(classification_report( [1.0 if i==1 else 0.0 for i in truth_ ]  ,[ float(i[0]>0.5) for i in  model.predict(test) ] ))"
      ],
      "id": "0RNNPUuKC2t7"
    },
    {
      "cell_type": "markdown",
      "source": [
        "**Parameters vs Epoch**"
      ],
      "metadata": {
        "id": "klVxIXaTrZ0N"
      },
      "id": "klVxIXaTrZ0N"
    },
    {
      "cell_type": "code",
      "source": [
        "model_result = {'model_history' : Model.history}\n",
        "history = pd.DataFrame(model_result['model_history'])\n",
        "history['epoch'] = [i for i in range(1,history.shape[0]+1)]\n",
        "fig_history =px.line(history, x=history.epoch, y=['loss', 'precision','accuracy','val_loss','val_precision','val_accuracy'])\n",
        "fig_history.show()"
      ],
      "metadata": {
        "colab": {
          "base_uri": "https://localhost:8080/",
          "height": 542
        },
        "id": "GcMFjemPpkGD",
        "outputId": "6c1eaeee-8d78-446e-9c6b-b8c57697abf6"
      },
      "id": "GcMFjemPpkGD",
      "execution_count": 17,
      "outputs": [
        {
          "output_type": "display_data",
          "data": {
            "text/html": [
              "<html>\n",
              "<head><meta charset=\"utf-8\" /></head>\n",
              "<body>\n",
              "    <div>            <script src=\"https://cdnjs.cloudflare.com/ajax/libs/mathjax/2.7.5/MathJax.js?config=TeX-AMS-MML_SVG\"></script><script type=\"text/javascript\">if (window.MathJax) {MathJax.Hub.Config({SVG: {font: \"STIX-Web\"}});}</script>                <script type=\"text/javascript\">window.PlotlyConfig = {MathJaxConfig: 'local'};</script>\n",
              "        <script src=\"https://cdn.plot.ly/plotly-2.8.3.min.js\"></script>                <div id=\"4c80a0e9-e570-4ad3-bbf1-55f098c45ace\" class=\"plotly-graph-div\" style=\"height:525px; width:100%;\"></div>            <script type=\"text/javascript\">                                    window.PLOTLYENV=window.PLOTLYENV || {};                                    if (document.getElementById(\"4c80a0e9-e570-4ad3-bbf1-55f098c45ace\")) {                    Plotly.newPlot(                        \"4c80a0e9-e570-4ad3-bbf1-55f098c45ace\",                        [{\"hovertemplate\":\"variable=loss<br>epoch=%{x}<br>value=%{y}<extra></extra>\",\"legendgroup\":\"loss\",\"line\":{\"color\":\"#636efa\",\"dash\":\"solid\"},\"marker\":{\"symbol\":\"circle\"},\"mode\":\"lines\",\"name\":\"loss\",\"orientation\":\"v\",\"showlegend\":true,\"x\":[1,2,3,4,5,6,7,8,9,10,11,12,13,14,15,16,17,18,19,20,21,22,23,24,25,26,27,28,29,30,31,32,33,34,35,36,37,38,39,40,41,42,43,44,45,46,47,48,49,50,51,52,53,54,55,56,57,58,59,60,61,62,63,64,65,66,67,68,69,70,71,72,73,74,75,76,77,78,79,80,81,82,83,84,85,86,87,88,89,90,91,92,93,94,95,96,97,98,99,100],\"xaxis\":\"x\",\"y\":[0.07513513416051865,0.052848927676677704,0.04450732469558716,0.044919710606336594,0.03490982577204704,0.024847934022545815,0.032895948737859726,0.02906094677746296,0.016807008534669876,0.037317633628845215,0.011501497589051723,0.020594581961631775,0.02078823931515217,0.014784865081310272,0.0368933342397213,0.012700051069259644,0.009896215051412582,0.007572378031909466,0.0406842865049839,0.025389771908521652,0.01648252084851265,0.02105487324297428,0.01627042330801487,0.011853914707899094,0.00641753152012825,0.008197957649827003,0.0052558076567947865,0.008155029267072678,0.010752136819064617,0.016419023275375366,0.010686768218874931,0.0074060214683413506,0.009427965618669987,0.008073102682828903,0.005915419198572636,0.013901721686124802,0.009276149794459343,0.005854591727256775,0.004379696678370237,0.0014712141128256917,0.014605389907956123,0.007614579517394304,0.005971092265099287,0.006840429734438658,0.005679522641003132,0.015470973215997219,0.0033702016808092594,0.013850977644324303,0.0031528978142887354,0.0034541101194918156,0.004144202917814255,0.016172023490071297,0.007684342097491026,0.006344267167150974,0.010479697957634926,0.0014098173705860972,0.005348038859665394,0.026548616588115692,0.008918069303035736,0.005982628557831049,0.0024039281997829676,0.00807260349392891,0.004914311226457357,0.0019492455758154392,0.0013797394931316376,0.003314523957669735,0.00492918910458684,0.000952289323322475,0.0014632355887442827,0.04039856418967247,0.0029663366731256247,0.0019339636201038957,0.015209704637527466,0.002119183074682951,0.009027949534356594,0.009057251736521721,0.0028038399759680033,0.0034021418541669846,0.01088104397058487,0.0030179389286786318,0.0011790754506364465,0.0017559530679136515,0.01890825480222702,0.0029969823081046343,0.0036190974060446024,0.003205097746104002,0.004676059819757938,0.004581597167998552,0.00746213598176837,0.0011253288248553872,0.0027430204208940268,0.003086690092459321,0.010186041705310345,0.004950028844177723,0.0034913073759526014,0.009047459810972214,0.0012084380723536015,0.002267420757561922,0.0023646573536098003,0.00241784262470901],\"yaxis\":\"y\",\"type\":\"scatter\"},{\"hovertemplate\":\"variable=precision<br>epoch=%{x}<br>value=%{y}<extra></extra>\",\"legendgroup\":\"precision\",\"line\":{\"color\":\"#EF553B\",\"dash\":\"solid\"},\"marker\":{\"symbol\":\"circle\"},\"mode\":\"lines\",\"name\":\"precision\",\"orientation\":\"v\",\"showlegend\":true,\"x\":[1,2,3,4,5,6,7,8,9,10,11,12,13,14,15,16,17,18,19,20,21,22,23,24,25,26,27,28,29,30,31,32,33,34,35,36,37,38,39,40,41,42,43,44,45,46,47,48,49,50,51,52,53,54,55,56,57,58,59,60,61,62,63,64,65,66,67,68,69,70,71,72,73,74,75,76,77,78,79,80,81,82,83,84,85,86,87,88,89,90,91,92,93,94,95,96,97,98,99,100],\"xaxis\":\"x\",\"y\":[0.8809523582458496,0.976190447807312,0.918367326259613,0.914893627166748,0.9399999976158142,1.0,0.9777777791023254,0.9591836929321289,0.9800000190734863,0.9411764740943909,1.0,1.0,0.9800000190734863,0.9629629850387573,0.936170220375061,0.9800000190734863,0.9803921580314636,1.0,0.9230769276618958,1.0,0.9800000190734863,0.9607843160629272,0.9622641801834106,1.0,0.9636363387107849,1.0,1.0,1.0,1.0,0.9622641801834106,1.0,1.0,0.9807692170143127,1.0,1.0,0.9607843160629272,1.0,1.0,1.0,1.0,0.9811320900917053,0.9807692170143127,1.0,0.9811320900917053,1.0,1.0,1.0,0.9807692170143127,1.0,1.0,1.0,0.9636363387107849,1.0,1.0,1.0,1.0,0.9807692170143127,0.9433962106704712,1.0,1.0,1.0,1.0,1.0,1.0,1.0,1.0,1.0,1.0,1.0,0.9259259104728699,1.0,1.0,0.9807692170143127,1.0,0.9807692170143127,0.9814814925193787,1.0,1.0,1.0,1.0,1.0,1.0,0.9803921580314636,1.0,1.0,0.9811320900917053,1.0,1.0,0.9814814925193787,1.0,1.0,1.0,0.9629629850387573,1.0,1.0,1.0,1.0,1.0,1.0,1.0],\"yaxis\":\"y\",\"type\":\"scatter\"},{\"hovertemplate\":\"variable=accuracy<br>epoch=%{x}<br>value=%{y}<extra></extra>\",\"legendgroup\":\"accuracy\",\"line\":{\"color\":\"#00cc96\",\"dash\":\"solid\"},\"marker\":{\"symbol\":\"circle\"},\"mode\":\"lines\",\"name\":\"accuracy\",\"orientation\":\"v\",\"showlegend\":true,\"x\":[1,2,3,4,5,6,7,8,9,10,11,12,13,14,15,16,17,18,19,20,21,22,23,24,25,26,27,28,29,30,31,32,33,34,35,36,37,38,39,40,41,42,43,44,45,46,47,48,49,50,51,52,53,54,55,56,57,58,59,60,61,62,63,64,65,66,67,68,69,70,71,72,73,74,75,76,77,78,79,80,81,82,83,84,85,86,87,88,89,90,91,92,93,94,95,96,97,98,99,100],\"xaxis\":\"x\",\"y\":[0.7200000286102295,0.8266666531562805,0.8399999737739563,0.8133333325386047,0.8799999952316284,0.8933333158493042,0.8666666746139526,0.8933333158493042,0.9333333373069763,0.8933333158493042,0.9466666579246521,0.9200000166893005,0.9333333373069763,0.9599999785423279,0.8399999737739563,0.9333333373069763,0.9466666579246521,0.9599999785423279,0.8799999952316284,0.9466666579246521,0.9333333373069763,0.9200000166893005,0.9466666579246521,0.9333333373069763,0.9733333587646484,0.9466666579246521,0.9599999785423279,0.9599999785423279,0.9333333373069763,0.9466666579246521,0.9599999785423279,0.9866666793823242,0.9599999785423279,0.9733333587646484,0.9866666793823242,0.9200000166893005,0.9866666793823242,0.9866666793823242,0.9866666793823242,1.0,0.9733333587646484,0.9599999785423279,0.9599999785423279,0.9733333587646484,0.9599999785423279,0.9200000166893005,0.9866666793823242,0.9599999785423279,1.0,0.9866666793823242,0.9866666793823242,0.9733333587646484,0.9599999785423279,0.9733333587646484,0.9733333587646484,1.0,0.9599999785423279,0.9200000166893005,0.9466666579246521,0.9733333587646484,0.9866666793823242,0.9733333587646484,0.9866666793823242,1.0,1.0,0.9866666793823242,0.9866666793823242,1.0,1.0,0.9066666960716248,1.0,1.0,0.9599999785423279,0.9733333587646484,0.9599999785423279,0.9866666793823242,0.9866666793823242,0.9866666793823242,0.9066666960716248,0.9866666793823242,0.9866666793823242,1.0,0.9466666579246521,0.9866666793823242,0.9866666793823242,0.9733333587646484,0.9866666793823242,0.9866666793823242,0.9866666793823242,1.0,0.9866666793823242,0.9866666793823242,0.9599999785423279,0.9599999785423279,0.9866666793823242,0.9466666579246521,1.0,0.9866666793823242,1.0,0.9866666793823242],\"yaxis\":\"y\",\"type\":\"scatter\"},{\"hovertemplate\":\"variable=val_loss<br>epoch=%{x}<br>value=%{y}<extra></extra>\",\"legendgroup\":\"val_loss\",\"line\":{\"color\":\"#ab63fa\",\"dash\":\"solid\"},\"marker\":{\"symbol\":\"circle\"},\"mode\":\"lines\",\"name\":\"val_loss\",\"orientation\":\"v\",\"showlegend\":true,\"x\":[1,2,3,4,5,6,7,8,9,10,11,12,13,14,15,16,17,18,19,20,21,22,23,24,25,26,27,28,29,30,31,32,33,34,35,36,37,38,39,40,41,42,43,44,45,46,47,48,49,50,51,52,53,54,55,56,57,58,59,60,61,62,63,64,65,66,67,68,69,70,71,72,73,74,75,76,77,78,79,80,81,82,83,84,85,86,87,88,89,90,91,92,93,94,95,96,97,98,99,100],\"xaxis\":\"x\",\"y\":[0.07172602415084839,0.08613523840904236,0.10657437890768051,0.11270143836736679,0.10655247420072556,0.11129641532897949,0.1265290081501007,0.147109717130661,0.15561269223690033,0.13850992918014526,0.1359369456768036,0.1465121954679489,0.15201881527900696,0.14615024626255035,0.13907626271247864,0.12758763134479523,0.12178235501050949,0.1189422756433487,0.09818485379219055,0.10114981234073639,0.1034717932343483,0.10525063425302505,0.10292480885982513,0.10006188601255417,0.09680701047182083,0.08990821987390518,0.08706434071063995,0.08742964267730713,0.09566441178321838,0.07945587486028671,0.07640666514635086,0.07958365976810455,0.07670325040817261,0.07990244030952454,0.08485505729913712,0.07157979160547256,0.07024133950471878,0.07209392637014389,0.07440344244241714,0.07366309314966202,0.06957481801509857,0.06031583622097969,0.05240156874060631,0.04470687359571457,0.04339499771595001,0.05077486112713814,0.05685059353709221,0.05463903024792671,0.052940115332603455,0.04692770168185234,0.046084459871053696,0.04251667857170105,0.03666127845644951,0.037273600697517395,0.0395485945045948,0.04127100482583046,0.04380565136671066,0.03896540030837059,0.03468865901231766,0.03374077007174492,0.03439760208129883,0.036924056708812714,0.04209105297923088,0.04235577955842018,0.04218168556690216,0.0413890965282917,0.03732180967926979,0.034787777811288834,0.033697709441185,0.027338001877069473,0.024092165753245354,0.0250688623636961,0.028349189087748528,0.035796985030174255,0.03714007884263992,0.032949090003967285,0.037390466779470444,0.04028868302702904,0.03870680183172226,0.036219000816345215,0.03481007367372513,0.033844612538814545,0.029652388766407967,0.027830587700009346,0.02624194137752056,0.02533646859228611,0.027062542736530304,0.026802854612469673,0.02636856772005558,0.027007246389985085,0.02695593051612377,0.02642546035349369,0.025862563401460648,0.026751883327960968,0.02612263895571232,0.023124508559703827,0.022823408246040344,0.023972637951374054,0.025069672614336014,0.025799281895160675],\"yaxis\":\"y\",\"type\":\"scatter\"},{\"hovertemplate\":\"variable=val_precision<br>epoch=%{x}<br>value=%{y}<extra></extra>\",\"legendgroup\":\"val_precision\",\"line\":{\"color\":\"#FFA15A\",\"dash\":\"solid\"},\"marker\":{\"symbol\":\"circle\"},\"mode\":\"lines\",\"name\":\"val_precision\",\"orientation\":\"v\",\"showlegend\":true,\"x\":[1,2,3,4,5,6,7,8,9,10,11,12,13,14,15,16,17,18,19,20,21,22,23,24,25,26,27,28,29,30,31,32,33,34,35,36,37,38,39,40,41,42,43,44,45,46,47,48,49,50,51,52,53,54,55,56,57,58,59,60,61,62,63,64,65,66,67,68,69,70,71,72,73,74,75,76,77,78,79,80,81,82,83,84,85,86,87,88,89,90,91,92,93,94,95,96,97,98,99,100],\"xaxis\":\"x\",\"y\":[0.695652186870575,0.6666666865348816,0.6399999856948853,0.6399999856948853,0.6399999856948853,0.6666666865348816,0.6399999856948853,0.6399999856948853,0.6399999856948853,0.6399999856948853,0.6399999856948853,0.6399999856948853,0.6399999856948853,0.6399999856948853,0.6399999856948853,0.6666666865348816,0.6666666865348816,0.6666666865348816,0.695652186870575,0.6666666865348816,0.6666666865348816,0.6666666865348816,0.6666666865348816,0.6666666865348816,0.695652186870575,0.695652186870575,0.7272727489471436,0.695652186870575,0.695652186870575,0.7272727489471436,0.761904776096344,0.7272727489471436,0.7272727489471436,0.7272727489471436,0.695652186870575,0.761904776096344,0.7894737124443054,0.7894737124443054,0.800000011920929,0.761904776096344,0.761904776096344,0.800000011920929,0.7894737124443054,0.7894737124443054,0.7894737124443054,0.7894737124443054,0.7894737124443054,0.800000011920929,0.8421052694320679,0.8333333134651184,0.8333333134651184,0.8333333134651184,0.7777777910232544,0.7777777910232544,0.7894737124443054,0.7894737124443054,0.7894737124443054,0.7894737124443054,0.7777777910232544,0.8235294222831726,0.8235294222831726,0.8333333134651184,0.8333333134651184,0.7894737124443054,0.7777777910232544,0.7777777910232544,0.8235294222831726,0.8235294222831726,0.875,0.875,0.9333333373069763,1.0,1.0,0.9230769276618958,0.9230769276618958,1.0,0.9230769276618958,0.9230769276618958,0.9166666865348816,1.0,1.0,1.0,0.875,0.875,0.875,0.875,0.9285714030265808,0.875,0.875,0.9285714030265808,0.9285714030265808,0.9285714030265808,0.9333333373069763,1.0,1.0,0.875,0.875,0.875,0.875,0.875],\"yaxis\":\"y\",\"type\":\"scatter\"},{\"hovertemplate\":\"variable=val_accuracy<br>epoch=%{x}<br>value=%{y}<extra></extra>\",\"legendgroup\":\"val_accuracy\",\"line\":{\"color\":\"#19d3f3\",\"dash\":\"solid\"},\"marker\":{\"symbol\":\"circle\"},\"mode\":\"lines\",\"name\":\"val_accuracy\",\"orientation\":\"v\",\"showlegend\":true,\"x\":[1,2,3,4,5,6,7,8,9,10,11,12,13,14,15,16,17,18,19,20,21,22,23,24,25,26,27,28,29,30,31,32,33,34,35,36,37,38,39,40,41,42,43,44,45,46,47,48,49,50,51,52,53,54,55,56,57,58,59,60,61,62,63,64,65,66,67,68,69,70,71,72,73,74,75,76,77,78,79,80,81,82,83,84,85,86,87,88,89,90,91,92,93,94,95,96,97,98,99,100],\"xaxis\":\"x\",\"y\":[0.7200000286102295,0.6800000071525574,0.6399999856948853,0.6399999856948853,0.6399999856948853,0.6800000071525574,0.6399999856948853,0.6399999856948853,0.6399999856948853,0.6399999856948853,0.6399999856948853,0.6399999856948853,0.6399999856948853,0.6399999856948853,0.6399999856948853,0.6800000071525574,0.6800000071525574,0.6800000071525574,0.7200000286102295,0.6800000071525574,0.6800000071525574,0.6800000071525574,0.6800000071525574,0.6800000071525574,0.7200000286102295,0.7200000286102295,0.7599999904632568,0.7200000286102295,0.7200000286102295,0.7599999904632568,0.800000011920929,0.7599999904632568,0.7599999904632568,0.7599999904632568,0.7200000286102295,0.800000011920929,0.800000011920929,0.800000011920929,0.8399999737739563,0.800000011920929,0.800000011920929,0.8399999737739563,0.800000011920929,0.800000011920929,0.800000011920929,0.800000011920929,0.800000011920929,0.8399999737739563,0.8799999952316284,0.8399999737739563,0.8399999737739563,0.8399999737739563,0.7599999904632568,0.7599999904632568,0.800000011920929,0.800000011920929,0.800000011920929,0.800000011920929,0.7599999904632568,0.800000011920929,0.800000011920929,0.8399999737739563,0.8399999737739563,0.800000011920929,0.7599999904632568,0.7599999904632568,0.800000011920929,0.800000011920929,0.8399999737739563,0.8399999737739563,0.8799999952316284,0.8799999952316284,0.8799999952316284,0.800000011920929,0.800000011920929,0.800000011920929,0.800000011920929,0.800000011920929,0.7599999904632568,0.800000011920929,0.8399999737739563,0.8399999737739563,0.8399999737739563,0.8399999737739563,0.8399999737739563,0.8399999737739563,0.8399999737739563,0.8399999737739563,0.8399999737739563,0.8399999737739563,0.8399999737739563,0.8399999737739563,0.8799999952316284,0.8799999952316284,0.9200000166893005,0.8399999737739563,0.8399999737739563,0.8399999737739563,0.8399999737739563,0.8399999737739563],\"yaxis\":\"y\",\"type\":\"scatter\"}],                        {\"template\":{\"data\":{\"bar\":[{\"error_x\":{\"color\":\"#2a3f5f\"},\"error_y\":{\"color\":\"#2a3f5f\"},\"marker\":{\"line\":{\"color\":\"#E5ECF6\",\"width\":0.5},\"pattern\":{\"fillmode\":\"overlay\",\"size\":10,\"solidity\":0.2}},\"type\":\"bar\"}],\"barpolar\":[{\"marker\":{\"line\":{\"color\":\"#E5ECF6\",\"width\":0.5},\"pattern\":{\"fillmode\":\"overlay\",\"size\":10,\"solidity\":0.2}},\"type\":\"barpolar\"}],\"carpet\":[{\"aaxis\":{\"endlinecolor\":\"#2a3f5f\",\"gridcolor\":\"white\",\"linecolor\":\"white\",\"minorgridcolor\":\"white\",\"startlinecolor\":\"#2a3f5f\"},\"baxis\":{\"endlinecolor\":\"#2a3f5f\",\"gridcolor\":\"white\",\"linecolor\":\"white\",\"minorgridcolor\":\"white\",\"startlinecolor\":\"#2a3f5f\"},\"type\":\"carpet\"}],\"choropleth\":[{\"colorbar\":{\"outlinewidth\":0,\"ticks\":\"\"},\"type\":\"choropleth\"}],\"contour\":[{\"colorbar\":{\"outlinewidth\":0,\"ticks\":\"\"},\"colorscale\":[[0.0,\"#0d0887\"],[0.1111111111111111,\"#46039f\"],[0.2222222222222222,\"#7201a8\"],[0.3333333333333333,\"#9c179e\"],[0.4444444444444444,\"#bd3786\"],[0.5555555555555556,\"#d8576b\"],[0.6666666666666666,\"#ed7953\"],[0.7777777777777778,\"#fb9f3a\"],[0.8888888888888888,\"#fdca26\"],[1.0,\"#f0f921\"]],\"type\":\"contour\"}],\"contourcarpet\":[{\"colorbar\":{\"outlinewidth\":0,\"ticks\":\"\"},\"type\":\"contourcarpet\"}],\"heatmap\":[{\"colorbar\":{\"outlinewidth\":0,\"ticks\":\"\"},\"colorscale\":[[0.0,\"#0d0887\"],[0.1111111111111111,\"#46039f\"],[0.2222222222222222,\"#7201a8\"],[0.3333333333333333,\"#9c179e\"],[0.4444444444444444,\"#bd3786\"],[0.5555555555555556,\"#d8576b\"],[0.6666666666666666,\"#ed7953\"],[0.7777777777777778,\"#fb9f3a\"],[0.8888888888888888,\"#fdca26\"],[1.0,\"#f0f921\"]],\"type\":\"heatmap\"}],\"heatmapgl\":[{\"colorbar\":{\"outlinewidth\":0,\"ticks\":\"\"},\"colorscale\":[[0.0,\"#0d0887\"],[0.1111111111111111,\"#46039f\"],[0.2222222222222222,\"#7201a8\"],[0.3333333333333333,\"#9c179e\"],[0.4444444444444444,\"#bd3786\"],[0.5555555555555556,\"#d8576b\"],[0.6666666666666666,\"#ed7953\"],[0.7777777777777778,\"#fb9f3a\"],[0.8888888888888888,\"#fdca26\"],[1.0,\"#f0f921\"]],\"type\":\"heatmapgl\"}],\"histogram\":[{\"marker\":{\"pattern\":{\"fillmode\":\"overlay\",\"size\":10,\"solidity\":0.2}},\"type\":\"histogram\"}],\"histogram2d\":[{\"colorbar\":{\"outlinewidth\":0,\"ticks\":\"\"},\"colorscale\":[[0.0,\"#0d0887\"],[0.1111111111111111,\"#46039f\"],[0.2222222222222222,\"#7201a8\"],[0.3333333333333333,\"#9c179e\"],[0.4444444444444444,\"#bd3786\"],[0.5555555555555556,\"#d8576b\"],[0.6666666666666666,\"#ed7953\"],[0.7777777777777778,\"#fb9f3a\"],[0.8888888888888888,\"#fdca26\"],[1.0,\"#f0f921\"]],\"type\":\"histogram2d\"}],\"histogram2dcontour\":[{\"colorbar\":{\"outlinewidth\":0,\"ticks\":\"\"},\"colorscale\":[[0.0,\"#0d0887\"],[0.1111111111111111,\"#46039f\"],[0.2222222222222222,\"#7201a8\"],[0.3333333333333333,\"#9c179e\"],[0.4444444444444444,\"#bd3786\"],[0.5555555555555556,\"#d8576b\"],[0.6666666666666666,\"#ed7953\"],[0.7777777777777778,\"#fb9f3a\"],[0.8888888888888888,\"#fdca26\"],[1.0,\"#f0f921\"]],\"type\":\"histogram2dcontour\"}],\"mesh3d\":[{\"colorbar\":{\"outlinewidth\":0,\"ticks\":\"\"},\"type\":\"mesh3d\"}],\"parcoords\":[{\"line\":{\"colorbar\":{\"outlinewidth\":0,\"ticks\":\"\"}},\"type\":\"parcoords\"}],\"pie\":[{\"automargin\":true,\"type\":\"pie\"}],\"scatter\":[{\"marker\":{\"colorbar\":{\"outlinewidth\":0,\"ticks\":\"\"}},\"type\":\"scatter\"}],\"scatter3d\":[{\"line\":{\"colorbar\":{\"outlinewidth\":0,\"ticks\":\"\"}},\"marker\":{\"colorbar\":{\"outlinewidth\":0,\"ticks\":\"\"}},\"type\":\"scatter3d\"}],\"scattercarpet\":[{\"marker\":{\"colorbar\":{\"outlinewidth\":0,\"ticks\":\"\"}},\"type\":\"scattercarpet\"}],\"scattergeo\":[{\"marker\":{\"colorbar\":{\"outlinewidth\":0,\"ticks\":\"\"}},\"type\":\"scattergeo\"}],\"scattergl\":[{\"marker\":{\"colorbar\":{\"outlinewidth\":0,\"ticks\":\"\"}},\"type\":\"scattergl\"}],\"scattermapbox\":[{\"marker\":{\"colorbar\":{\"outlinewidth\":0,\"ticks\":\"\"}},\"type\":\"scattermapbox\"}],\"scatterpolar\":[{\"marker\":{\"colorbar\":{\"outlinewidth\":0,\"ticks\":\"\"}},\"type\":\"scatterpolar\"}],\"scatterpolargl\":[{\"marker\":{\"colorbar\":{\"outlinewidth\":0,\"ticks\":\"\"}},\"type\":\"scatterpolargl\"}],\"scatterternary\":[{\"marker\":{\"colorbar\":{\"outlinewidth\":0,\"ticks\":\"\"}},\"type\":\"scatterternary\"}],\"surface\":[{\"colorbar\":{\"outlinewidth\":0,\"ticks\":\"\"},\"colorscale\":[[0.0,\"#0d0887\"],[0.1111111111111111,\"#46039f\"],[0.2222222222222222,\"#7201a8\"],[0.3333333333333333,\"#9c179e\"],[0.4444444444444444,\"#bd3786\"],[0.5555555555555556,\"#d8576b\"],[0.6666666666666666,\"#ed7953\"],[0.7777777777777778,\"#fb9f3a\"],[0.8888888888888888,\"#fdca26\"],[1.0,\"#f0f921\"]],\"type\":\"surface\"}],\"table\":[{\"cells\":{\"fill\":{\"color\":\"#EBF0F8\"},\"line\":{\"color\":\"white\"}},\"header\":{\"fill\":{\"color\":\"#C8D4E3\"},\"line\":{\"color\":\"white\"}},\"type\":\"table\"}]},\"layout\":{\"annotationdefaults\":{\"arrowcolor\":\"#2a3f5f\",\"arrowhead\":0,\"arrowwidth\":1},\"autotypenumbers\":\"strict\",\"coloraxis\":{\"colorbar\":{\"outlinewidth\":0,\"ticks\":\"\"}},\"colorscale\":{\"diverging\":[[0,\"#8e0152\"],[0.1,\"#c51b7d\"],[0.2,\"#de77ae\"],[0.3,\"#f1b6da\"],[0.4,\"#fde0ef\"],[0.5,\"#f7f7f7\"],[0.6,\"#e6f5d0\"],[0.7,\"#b8e186\"],[0.8,\"#7fbc41\"],[0.9,\"#4d9221\"],[1,\"#276419\"]],\"sequential\":[[0.0,\"#0d0887\"],[0.1111111111111111,\"#46039f\"],[0.2222222222222222,\"#7201a8\"],[0.3333333333333333,\"#9c179e\"],[0.4444444444444444,\"#bd3786\"],[0.5555555555555556,\"#d8576b\"],[0.6666666666666666,\"#ed7953\"],[0.7777777777777778,\"#fb9f3a\"],[0.8888888888888888,\"#fdca26\"],[1.0,\"#f0f921\"]],\"sequentialminus\":[[0.0,\"#0d0887\"],[0.1111111111111111,\"#46039f\"],[0.2222222222222222,\"#7201a8\"],[0.3333333333333333,\"#9c179e\"],[0.4444444444444444,\"#bd3786\"],[0.5555555555555556,\"#d8576b\"],[0.6666666666666666,\"#ed7953\"],[0.7777777777777778,\"#fb9f3a\"],[0.8888888888888888,\"#fdca26\"],[1.0,\"#f0f921\"]]},\"colorway\":[\"#636efa\",\"#EF553B\",\"#00cc96\",\"#ab63fa\",\"#FFA15A\",\"#19d3f3\",\"#FF6692\",\"#B6E880\",\"#FF97FF\",\"#FECB52\"],\"font\":{\"color\":\"#2a3f5f\"},\"geo\":{\"bgcolor\":\"white\",\"lakecolor\":\"white\",\"landcolor\":\"#E5ECF6\",\"showlakes\":true,\"showland\":true,\"subunitcolor\":\"white\"},\"hoverlabel\":{\"align\":\"left\"},\"hovermode\":\"closest\",\"mapbox\":{\"style\":\"light\"},\"paper_bgcolor\":\"white\",\"plot_bgcolor\":\"#E5ECF6\",\"polar\":{\"angularaxis\":{\"gridcolor\":\"white\",\"linecolor\":\"white\",\"ticks\":\"\"},\"bgcolor\":\"#E5ECF6\",\"radialaxis\":{\"gridcolor\":\"white\",\"linecolor\":\"white\",\"ticks\":\"\"}},\"scene\":{\"xaxis\":{\"backgroundcolor\":\"#E5ECF6\",\"gridcolor\":\"white\",\"gridwidth\":2,\"linecolor\":\"white\",\"showbackground\":true,\"ticks\":\"\",\"zerolinecolor\":\"white\"},\"yaxis\":{\"backgroundcolor\":\"#E5ECF6\",\"gridcolor\":\"white\",\"gridwidth\":2,\"linecolor\":\"white\",\"showbackground\":true,\"ticks\":\"\",\"zerolinecolor\":\"white\"},\"zaxis\":{\"backgroundcolor\":\"#E5ECF6\",\"gridcolor\":\"white\",\"gridwidth\":2,\"linecolor\":\"white\",\"showbackground\":true,\"ticks\":\"\",\"zerolinecolor\":\"white\"}},\"shapedefaults\":{\"line\":{\"color\":\"#2a3f5f\"}},\"ternary\":{\"aaxis\":{\"gridcolor\":\"white\",\"linecolor\":\"white\",\"ticks\":\"\"},\"baxis\":{\"gridcolor\":\"white\",\"linecolor\":\"white\",\"ticks\":\"\"},\"bgcolor\":\"#E5ECF6\",\"caxis\":{\"gridcolor\":\"white\",\"linecolor\":\"white\",\"ticks\":\"\"}},\"title\":{\"x\":0.05},\"xaxis\":{\"automargin\":true,\"gridcolor\":\"white\",\"linecolor\":\"white\",\"ticks\":\"\",\"title\":{\"standoff\":15},\"zerolinecolor\":\"white\",\"zerolinewidth\":2},\"yaxis\":{\"automargin\":true,\"gridcolor\":\"white\",\"linecolor\":\"white\",\"ticks\":\"\",\"title\":{\"standoff\":15},\"zerolinecolor\":\"white\",\"zerolinewidth\":2}}},\"xaxis\":{\"anchor\":\"y\",\"domain\":[0.0,1.0],\"title\":{\"text\":\"epoch\"}},\"yaxis\":{\"anchor\":\"x\",\"domain\":[0.0,1.0],\"title\":{\"text\":\"value\"}},\"legend\":{\"title\":{\"text\":\"variable\"},\"tracegroupgap\":0},\"margin\":{\"t\":60}},                        {\"responsive\": true}                    ).then(function(){\n",
              "                            \n",
              "var gd = document.getElementById('4c80a0e9-e570-4ad3-bbf1-55f098c45ace');\n",
              "var x = new MutationObserver(function (mutations, observer) {{\n",
              "        var display = window.getComputedStyle(gd).display;\n",
              "        if (!display || display === 'none') {{\n",
              "            console.log([gd, 'removed!']);\n",
              "            Plotly.purge(gd);\n",
              "            observer.disconnect();\n",
              "        }}\n",
              "}});\n",
              "\n",
              "// Listen for the removal of the full notebook cells\n",
              "var notebookContainer = gd.closest('#notebook-container');\n",
              "if (notebookContainer) {{\n",
              "    x.observe(notebookContainer, {childList: true});\n",
              "}}\n",
              "\n",
              "// Listen for the clearing of the current output cell\n",
              "var outputEl = gd.closest('.output');\n",
              "if (outputEl) {{\n",
              "    x.observe(outputEl, {childList: true});\n",
              "}}\n",
              "\n",
              "                        })                };                            </script>        </div>\n",
              "</body>\n",
              "</html>"
            ]
          },
          "metadata": {}
        }
      ]
    },
    {
      "cell_type": "code",
      "source": [
        ""
      ],
      "metadata": {
        "id": "bepUZAzIpj2M"
      },
      "id": "bepUZAzIpj2M",
      "execution_count": 17,
      "outputs": []
    },
    {
      "cell_type": "markdown",
      "source": [
        "# Dump"
      ],
      "metadata": {
        "id": "-u2x7UZ8q1KH"
      },
      "id": "-u2x7UZ8q1KH"
    },
    {
      "cell_type": "code",
      "source": [
        "# report = classification_report([1.0 if i==1 else 0.0 for i in truth_ ], [ float(i[0]>0.5) for i in  model.predict(test) ], output_dict=True)\n",
        "# report = pd.DataFrame(report).transpose()\n",
        "# report['index'] = report.index\n",
        "# dump(report,'/report_2.joblib')\n",
        "# report"
      ],
      "metadata": {
        "id": "e-TXyymUNeGL"
      },
      "id": "e-TXyymUNeGL",
      "execution_count": 18,
      "outputs": []
    },
    {
      "cell_type": "code",
      "source": [
        "# from joblib import load,dump\n",
        "# dump(report,'/report_2.joblib')"
      ],
      "metadata": {
        "id": "9X5nFjHBO-0p"
      },
      "id": "9X5nFjHBO-0p",
      "execution_count": 19,
      "outputs": []
    },
    {
      "cell_type": "code",
      "source": [
        "# load('report_.joblib')"
      ],
      "metadata": {
        "id": "fWNQV-QNbXp9"
      },
      "id": "fWNQV-QNbXp9",
      "execution_count": 20,
      "outputs": []
    },
    {
      "cell_type": "code",
      "source": [
        "# report"
      ],
      "metadata": {
        "id": "Yz2c4WMVN6wl"
      },
      "id": "Yz2c4WMVN6wl",
      "execution_count": 21,
      "outputs": []
    },
    {
      "cell_type": "code",
      "source": [
        "# import plotly.graph_objects as go\n",
        "# fig = go.Figure(data=[go.Table(\n",
        "#     header=dict(values=list(report.columns),\n",
        "#                 fill_color='paleturquoise',\n",
        "#                 align='left'),\n",
        "#     cells=dict(values=report.transpose().values.tolist(),\n",
        "#                fill_color='lavender',\n",
        "#                align='left'))\n",
        "# ])\n",
        "\n",
        "# fig.show()"
      ],
      "metadata": {
        "id": "fAxPZgUmOErN"
      },
      "id": "fAxPZgUmOErN",
      "execution_count": 22,
      "outputs": []
    },
    {
      "cell_type": "code",
      "source": [
        "# ! pip install joblib\n",
        "# import joblib\n",
        "# joblib.__version__"
      ],
      "metadata": {
        "id": "jhV9Q7X2t73n"
      },
      "id": "jhV9Q7X2t73n",
      "execution_count": 23,
      "outputs": []
    },
    {
      "cell_type": "code",
      "source": [
        "# from joblib import load , dump\n",
        "\n",
        "# model_result = {\n",
        "#     'model_history' : Model.history,\n",
        "#     'classification_report_test_set' : classification_report( [1.0 if i==1 else 0.0 for i in truth_ ]  ,[ float(i[0]>0.5) for i in  model.predict(test) ] )\n",
        "# }\n",
        "# dump(model_result,'model_result.joblib')"
      ],
      "metadata": {
        "id": "NtTEvC-Mtret"
      },
      "id": "NtTEvC-Mtret",
      "execution_count": 24,
      "outputs": []
    },
    {
      "cell_type": "code",
      "source": [
        "# model_result['classification_report_test_set']"
      ],
      "metadata": {
        "id": "kV10RcjDu0OH"
      },
      "id": "kV10RcjDu0OH",
      "execution_count": 25,
      "outputs": []
    },
    {
      "cell_type": "code",
      "source": [
        "# dump(model_result,'model_result.joblib')"
      ],
      "metadata": {
        "id": "GIjCPFfAvxfD"
      },
      "id": "GIjCPFfAvxfD",
      "execution_count": 26,
      "outputs": []
    },
    {
      "cell_type": "code",
      "source": [
        "# from joblib import load , dump\n",
        "\n",
        "# result = load('model_result.joblib')"
      ],
      "metadata": {
        "id": "KoueOK8Fv4ie"
      },
      "id": "KoueOK8Fv4ie",
      "execution_count": 27,
      "outputs": []
    },
    {
      "cell_type": "code",
      "source": [
        "# result.keys()"
      ],
      "metadata": {
        "id": "IvFIDc-iCDSB"
      },
      "id": "IvFIDc-iCDSB",
      "execution_count": 28,
      "outputs": []
    },
    {
      "cell_type": "code",
      "source": [
        "# result['classification_report_test_set']"
      ],
      "metadata": {
        "id": "5-NGtoK4FwLv"
      },
      "id": "5-NGtoK4FwLv",
      "execution_count": 29,
      "outputs": []
    },
    {
      "cell_type": "code",
      "source": [
        "# a = result['classification_report_test_set'].split('\\n')\n",
        "# len(a)"
      ],
      "metadata": {
        "id": "_ENktzWzCE6Q"
      },
      "id": "_ENktzWzCE6Q",
      "execution_count": 30,
      "outputs": []
    },
    {
      "cell_type": "code",
      "source": [
        "# for i in a: print(i)"
      ],
      "metadata": {
        "id": "9KDCnjrVFpF-"
      },
      "id": "9KDCnjrVFpF-",
      "execution_count": 31,
      "outputs": []
    },
    {
      "cell_type": "code",
      "source": [
        "# result['model_history'].keys()"
      ],
      "metadata": {
        "id": "Ml-KNc20v4f4"
      },
      "id": "Ml-KNc20v4f4",
      "execution_count": 32,
      "outputs": []
    },
    {
      "cell_type": "code",
      "source": [
        "# fig = px.line(df, x='Date', y='AAPL.High')\n",
        "\n",
        "# # Only thing I figured is - I could do this \n",
        "# fig.add_scatter(x=df['Date'], y=df['AAPL.Low']) # Not what is desired - need a line \n"
      ],
      "metadata": {
        "id": "9Q4qEaDXRfIW"
      },
      "id": "9Q4qEaDXRfIW",
      "execution_count": 33,
      "outputs": []
    },
    {
      "cell_type": "code",
      "source": [
        "# result['model_history']"
      ],
      "metadata": {
        "id": "el6jA6z-y4Nc"
      },
      "id": "el6jA6z-y4Nc",
      "execution_count": 34,
      "outputs": []
    },
    {
      "cell_type": "code",
      "source": [
        "# ! pip install dash==2.0.0\n",
        "# ! pip install plotly"
      ],
      "metadata": {
        "id": "V8abqZWt14to"
      },
      "id": "V8abqZWt14to",
      "execution_count": 35,
      "outputs": []
    },
    {
      "cell_type": "code",
      "source": [
        "# ! pip install plotly"
      ],
      "metadata": {
        "id": "mVYfnarQ775O"
      },
      "id": "mVYfnarQ775O",
      "execution_count": 36,
      "outputs": []
    },
    {
      "cell_type": "code",
      "source": [
        "# import plotly\n",
        "# plotly.__version__"
      ],
      "metadata": {
        "id": "ExYNXxh43Prs"
      },
      "id": "ExYNXxh43Prs",
      "execution_count": 37,
      "outputs": []
    },
    {
      "cell_type": "code",
      "source": [
        "# import plotly\n",
        "# plotly.__version__"
      ],
      "metadata": {
        "id": "k9nyYgxO3Sc8"
      },
      "id": "k9nyYgxO3Sc8",
      "execution_count": 38,
      "outputs": []
    },
    {
      "cell_type": "code",
      "source": [
        "# import dash\n",
        "# import dash_core_components as dcc\n",
        "# import dash_html_components as html\n",
        "# import plotly.express as px\n",
        "# import pandas as pd\n",
        "\n",
        "# app = dash.Dash(__name__)\n",
        "\n",
        "# # assume you have a \"long-form\" data frame\n",
        "# # see https://plotly.com/python/px-arguments/ for more options\n",
        "# df = pd.DataFrame({\n",
        "#     \"Fruit\": [\"Apples\", \"Oranges\", \"Bananas\", \"Apples\", \"Oranges\", \"Bananas\"],\n",
        "#     \"Amount\": [4, 1, 2, 2, 4, 5],\n",
        "#     \"City\": [\"SF\", \"SF\", \"SF\", \"Montreal\", \"Montreal\", \"Montreal\"]\n",
        "# })\n",
        "\n",
        "# fig = px.bar(df, x=\"Fruit\", y=\"Amount\", color=\"City\", barmode=\"group\")\n",
        "\n",
        "# app.layout = html.Div(children=[\n",
        "#     html.H1(children='Hello Dash'),\n",
        "\n",
        "#     html.Div(children='''\n",
        "#         Dash: A web application framework for your data.\n",
        "#     '''),\n",
        "\n",
        "#     dcc.Graph(\n",
        "#         id='example-graph',\n",
        "#         figure=fig\n",
        "#     )\n",
        "# ])\n",
        "\n",
        "# if __name__ == '__main__':\n",
        "#     app.run_server(debug=True)"
      ],
      "metadata": {
        "id": "M_t72Wqvv4cx"
      },
      "id": "M_t72Wqvv4cx",
      "execution_count": 39,
      "outputs": []
    },
    {
      "cell_type": "code",
      "source": [
        "# fig = px.line(x=[0, 1, 2, 3, 4], y=[0, 1, 4, 9, 16],)\n",
        "# fig.add_scatter(x=[0, 1, 2, 3, 4], y=[10, 11, 41, 91, 161]) \n",
        "# fig.show()"
      ],
      "metadata": {
        "id": "u34-1x_Byw6O"
      },
      "id": "u34-1x_Byw6O",
      "execution_count": 40,
      "outputs": []
    },
    {
      "cell_type": "code",
      "source": [
        "# model_result = {'model_history' : Model.history}\n",
        "# history = pd.DataFrame(model_result['model_history'])\n",
        "# history['epoch'] = [i for i in range(1,history.shape[0]+1)]\n",
        "# fig_history =px.line(history, x=history.epoch, y=['loss', 'precision','accuracy','val_loss','val_precision','val_accuracy'])\n",
        "# fig_history.show()"
      ],
      "metadata": {
        "id": "pH4gMcklUeok"
      },
      "id": "pH4gMcklUeok",
      "execution_count": 41,
      "outputs": []
    },
    {
      "cell_type": "code",
      "source": [
        "# fig_history =px.line(history, x=history.epoch, y=['loss', 'precision','accuracy','val_loss','val_precision','val_accuracy'])\n",
        "# fig_history.show()"
      ],
      "metadata": {
        "id": "F5NWEWf3U12R"
      },
      "id": "F5NWEWf3U12R",
      "execution_count": 42,
      "outputs": []
    }
  ],
  "metadata": {
    "colab": {
      "collapsed_sections": [],
      "name": "Train_ECG_200.ipynb",
      "provenance": []
    },
    "kernelspec": {
      "display_name": "Python 3",
      "language": "python",
      "name": "python3"
    },
    "language_info": {
      "codemirror_mode": {
        "name": "ipython",
        "version": 3
      },
      "file_extension": ".py",
      "mimetype": "text/x-python",
      "name": "python",
      "nbconvert_exporter": "python",
      "pygments_lexer": "ipython3",
      "version": "3.8.8"
    }
  },
  "nbformat": 4,
  "nbformat_minor": 5
}